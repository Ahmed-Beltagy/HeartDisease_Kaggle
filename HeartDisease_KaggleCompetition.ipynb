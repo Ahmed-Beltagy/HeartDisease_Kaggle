{
  "metadata": {
    "kernelspec": {
      "language": "python",
      "display_name": "Python 3",
      "name": "python3"
    },
    "language_info": {
      "name": "python",
      "version": "3.10.10",
      "mimetype": "text/x-python",
      "codemirror_mode": {
        "name": "ipython",
        "version": 3
      },
      "pygments_lexer": "ipython3",
      "nbconvert_exporter": "python",
      "file_extension": ".py"
    },
    "colab": {
      "provenance": [],
      "gpuType": "T4",
      "include_colab_link": true
    },
    "accelerator": "GPU",
    "gpuClass": "standard"
  },
  "nbformat_minor": 0,
  "nbformat": 4,
  "cells": [
    {
      "cell_type": "markdown",
      "metadata": {
        "id": "view-in-github",
        "colab_type": "text"
      },
      "source": [
        "<a href=\"https://colab.research.google.com/github/Ahmed-Beltagy/HeartDisease_Kaggle/blob/main/HeartDisease_KaggleCompetition.ipynb\" target=\"_parent\"><img src=\"https://colab.research.google.com/assets/colab-badge.svg\" alt=\"Open In Colab\"/></a>"
      ]
    },
    {
      "cell_type": "code",
      "source": [
        "import time\n",
        "import pandas as pd\n",
        "import matplotlib.pyplot as plt\n",
        "%matplotlib inline\n",
        "import seaborn as sns\n",
        "import numpy as np\n",
        "from numpy import mean\n",
        "from sklearn.model_selection import train_test_split , cross_val_score\n",
        "from sklearn.preprocessing import MinMaxScaler\n",
        "from sklearn.metrics import classification_report\n",
        "from sklearn.metrics import confusion_matrix\n",
        "from sklearn.metrics import accuracy_score\n",
        "from sklearn.metrics import f1_score\n",
        "from sklearn.naive_bayes import GaussianNB\n",
        "from sklearn.naive_bayes import MultinomialNB\n",
        "from sklearn.neighbors import KNeighborsClassifier\n",
        "from sklearn.ensemble import RandomForestClassifier\n",
        "from sklearn.model_selection import cross_validate\n",
        "from sklearn.svm import SVC\n",
        "from sklearn import metrics\n",
        "from sklearn.linear_model import LogisticRegression\n",
        "from sklearn.datasets import make_classification\n",
        "from sklearn.model_selection import RepeatedStratifiedKFold\n",
        "from sklearn.linear_model import Perceptron\n",
        "from sklearn.model_selection import GridSearchCV\n",
        "import warnings\n",
        "warnings.filterwarnings(\"ignore\")\n",
        "import os\n",
        "for dirname, _, filenames in os.walk('/kaggle/input'):\n",
        "    for filename in filenames:\n",
        "        print(os.path.join(dirname, filename))"
      ],
      "metadata": {
        "_uuid": "8f2839f25d086af736a60e9eeb907d3b93b6e0e5",
        "_cell_guid": "b1076dfc-b9ad-4769-8c92-a6c4dae69d19",
        "execution": {
          "iopub.status.busy": "2023-05-05T06:49:11.099994Z",
          "iopub.execute_input": "2023-05-05T06:49:11.100672Z",
          "iopub.status.idle": "2023-05-05T06:49:11.733126Z",
          "shell.execute_reply.started": "2023-05-05T06:49:11.100626Z",
          "shell.execute_reply": "2023-05-05T06:49:11.731947Z"
        },
        "trusted": true,
        "id": "JdE2Vtvjt59m"
      },
      "execution_count": 1,
      "outputs": []
    },
    {
      "cell_type": "code",
      "source": [
        "test_data = pd.read_csv(\"/content/test.csv\")"
      ],
      "metadata": {
        "id": "ho0mA36xO-iY"
      },
      "execution_count": 102,
      "outputs": []
    },
    {
      "cell_type": "code",
      "source": [
        "data = pd.read_csv(\"/content/train.csv\")\n",
        "test_data = pd.read_csv(\"/content/test.csv\")\n",
        "data.head()"
      ],
      "metadata": {
        "execution": {
          "iopub.status.busy": "2023-05-05T06:49:11.739388Z",
          "iopub.execute_input": "2023-05-05T06:49:11.739742Z",
          "iopub.status.idle": "2023-05-05T06:49:12.439489Z",
          "shell.execute_reply.started": "2023-05-05T06:49:11.739708Z",
          "shell.execute_reply": "2023-05-05T06:49:12.438207Z"
        },
        "trusted": true,
        "colab": {
          "base_uri": "https://localhost:8080/",
          "height": 270
        },
        "id": "QrauZBFHt59r",
        "outputId": "f0c0975b-fcf5-4cd7-dd2c-dd24febb6ae9"
      },
      "execution_count": 2,
      "outputs": [
        {
          "output_type": "execute_result",
          "data": {
            "text/plain": [
              "   ID        age  sex     chest  resting_blood_pressure  serum_cholestoral  \\\n",
              "0   0  49.207124    0  4.000000              162.996167         181.108682   \n",
              "1   1  53.628425    1  1.741596              130.233730         276.474630   \n",
              "2   2  49.591426    1  4.000000              146.999012         223.300517   \n",
              "3   3  58.991445    1  4.000000              112.369143         187.245501   \n",
              "4   4  51.053602    1  1.954609              138.032047         238.482868   \n",
              "\n",
              "   fasting_blood_sugar  resting_electrocardiographic_results  \\\n",
              "0                    0                                     0   \n",
              "1                    0                                     2   \n",
              "2                    1                                     2   \n",
              "3                    0                                     0   \n",
              "4                    0                                     0   \n",
              "\n",
              "   maximum_heart_rate_achieved  exercise_induced_angina   oldpeak  slope  \\\n",
              "0                   148.227858                        1  0.944547      2   \n",
              "1                   152.917139                        0  0.119070      2   \n",
              "2                   102.352090                        1  1.616747      2   \n",
              "3                   158.164750                        1  0.000000      1   \n",
              "4                   172.540828                        0  1.150464      1   \n",
              "\n",
              "   number_of_major_vessels  thal  class  \n",
              "0                        0     3      1  \n",
              "1                        0     3      0  \n",
              "2                        2     7      1  \n",
              "3                        1     7      1  \n",
              "4                        1     3      0  "
            ],
            "text/html": [
              "\n",
              "  <div id=\"df-88472d63-d913-4d22-93e5-2655fecf99e6\">\n",
              "    <div class=\"colab-df-container\">\n",
              "      <div>\n",
              "<style scoped>\n",
              "    .dataframe tbody tr th:only-of-type {\n",
              "        vertical-align: middle;\n",
              "    }\n",
              "\n",
              "    .dataframe tbody tr th {\n",
              "        vertical-align: top;\n",
              "    }\n",
              "\n",
              "    .dataframe thead th {\n",
              "        text-align: right;\n",
              "    }\n",
              "</style>\n",
              "<table border=\"1\" class=\"dataframe\">\n",
              "  <thead>\n",
              "    <tr style=\"text-align: right;\">\n",
              "      <th></th>\n",
              "      <th>ID</th>\n",
              "      <th>age</th>\n",
              "      <th>sex</th>\n",
              "      <th>chest</th>\n",
              "      <th>resting_blood_pressure</th>\n",
              "      <th>serum_cholestoral</th>\n",
              "      <th>fasting_blood_sugar</th>\n",
              "      <th>resting_electrocardiographic_results</th>\n",
              "      <th>maximum_heart_rate_achieved</th>\n",
              "      <th>exercise_induced_angina</th>\n",
              "      <th>oldpeak</th>\n",
              "      <th>slope</th>\n",
              "      <th>number_of_major_vessels</th>\n",
              "      <th>thal</th>\n",
              "      <th>class</th>\n",
              "    </tr>\n",
              "  </thead>\n",
              "  <tbody>\n",
              "    <tr>\n",
              "      <th>0</th>\n",
              "      <td>0</td>\n",
              "      <td>49.207124</td>\n",
              "      <td>0</td>\n",
              "      <td>4.000000</td>\n",
              "      <td>162.996167</td>\n",
              "      <td>181.108682</td>\n",
              "      <td>0</td>\n",
              "      <td>0</td>\n",
              "      <td>148.227858</td>\n",
              "      <td>1</td>\n",
              "      <td>0.944547</td>\n",
              "      <td>2</td>\n",
              "      <td>0</td>\n",
              "      <td>3</td>\n",
              "      <td>1</td>\n",
              "    </tr>\n",
              "    <tr>\n",
              "      <th>1</th>\n",
              "      <td>1</td>\n",
              "      <td>53.628425</td>\n",
              "      <td>1</td>\n",
              "      <td>1.741596</td>\n",
              "      <td>130.233730</td>\n",
              "      <td>276.474630</td>\n",
              "      <td>0</td>\n",
              "      <td>2</td>\n",
              "      <td>152.917139</td>\n",
              "      <td>0</td>\n",
              "      <td>0.119070</td>\n",
              "      <td>2</td>\n",
              "      <td>0</td>\n",
              "      <td>3</td>\n",
              "      <td>0</td>\n",
              "    </tr>\n",
              "    <tr>\n",
              "      <th>2</th>\n",
              "      <td>2</td>\n",
              "      <td>49.591426</td>\n",
              "      <td>1</td>\n",
              "      <td>4.000000</td>\n",
              "      <td>146.999012</td>\n",
              "      <td>223.300517</td>\n",
              "      <td>1</td>\n",
              "      <td>2</td>\n",
              "      <td>102.352090</td>\n",
              "      <td>1</td>\n",
              "      <td>1.616747</td>\n",
              "      <td>2</td>\n",
              "      <td>2</td>\n",
              "      <td>7</td>\n",
              "      <td>1</td>\n",
              "    </tr>\n",
              "    <tr>\n",
              "      <th>3</th>\n",
              "      <td>3</td>\n",
              "      <td>58.991445</td>\n",
              "      <td>1</td>\n",
              "      <td>4.000000</td>\n",
              "      <td>112.369143</td>\n",
              "      <td>187.245501</td>\n",
              "      <td>0</td>\n",
              "      <td>0</td>\n",
              "      <td>158.164750</td>\n",
              "      <td>1</td>\n",
              "      <td>0.000000</td>\n",
              "      <td>1</td>\n",
              "      <td>1</td>\n",
              "      <td>7</td>\n",
              "      <td>1</td>\n",
              "    </tr>\n",
              "    <tr>\n",
              "      <th>4</th>\n",
              "      <td>4</td>\n",
              "      <td>51.053602</td>\n",
              "      <td>1</td>\n",
              "      <td>1.954609</td>\n",
              "      <td>138.032047</td>\n",
              "      <td>238.482868</td>\n",
              "      <td>0</td>\n",
              "      <td>0</td>\n",
              "      <td>172.540828</td>\n",
              "      <td>0</td>\n",
              "      <td>1.150464</td>\n",
              "      <td>1</td>\n",
              "      <td>1</td>\n",
              "      <td>3</td>\n",
              "      <td>0</td>\n",
              "    </tr>\n",
              "  </tbody>\n",
              "</table>\n",
              "</div>\n",
              "      <button class=\"colab-df-convert\" onclick=\"convertToInteractive('df-88472d63-d913-4d22-93e5-2655fecf99e6')\"\n",
              "              title=\"Convert this dataframe to an interactive table.\"\n",
              "              style=\"display:none;\">\n",
              "        \n",
              "  <svg xmlns=\"http://www.w3.org/2000/svg\" height=\"24px\"viewBox=\"0 0 24 24\"\n",
              "       width=\"24px\">\n",
              "    <path d=\"M0 0h24v24H0V0z\" fill=\"none\"/>\n",
              "    <path d=\"M18.56 5.44l.94 2.06.94-2.06 2.06-.94-2.06-.94-.94-2.06-.94 2.06-2.06.94zm-11 1L8.5 8.5l.94-2.06 2.06-.94-2.06-.94L8.5 2.5l-.94 2.06-2.06.94zm10 10l.94 2.06.94-2.06 2.06-.94-2.06-.94-.94-2.06-.94 2.06-2.06.94z\"/><path d=\"M17.41 7.96l-1.37-1.37c-.4-.4-.92-.59-1.43-.59-.52 0-1.04.2-1.43.59L10.3 9.45l-7.72 7.72c-.78.78-.78 2.05 0 2.83L4 21.41c.39.39.9.59 1.41.59.51 0 1.02-.2 1.41-.59l7.78-7.78 2.81-2.81c.8-.78.8-2.07 0-2.86zM5.41 20L4 18.59l7.72-7.72 1.47 1.35L5.41 20z\"/>\n",
              "  </svg>\n",
              "      </button>\n",
              "      \n",
              "  <style>\n",
              "    .colab-df-container {\n",
              "      display:flex;\n",
              "      flex-wrap:wrap;\n",
              "      gap: 12px;\n",
              "    }\n",
              "\n",
              "    .colab-df-convert {\n",
              "      background-color: #E8F0FE;\n",
              "      border: none;\n",
              "      border-radius: 50%;\n",
              "      cursor: pointer;\n",
              "      display: none;\n",
              "      fill: #1967D2;\n",
              "      height: 32px;\n",
              "      padding: 0 0 0 0;\n",
              "      width: 32px;\n",
              "    }\n",
              "\n",
              "    .colab-df-convert:hover {\n",
              "      background-color: #E2EBFA;\n",
              "      box-shadow: 0px 1px 2px rgba(60, 64, 67, 0.3), 0px 1px 3px 1px rgba(60, 64, 67, 0.15);\n",
              "      fill: #174EA6;\n",
              "    }\n",
              "\n",
              "    [theme=dark] .colab-df-convert {\n",
              "      background-color: #3B4455;\n",
              "      fill: #D2E3FC;\n",
              "    }\n",
              "\n",
              "    [theme=dark] .colab-df-convert:hover {\n",
              "      background-color: #434B5C;\n",
              "      box-shadow: 0px 1px 3px 1px rgba(0, 0, 0, 0.15);\n",
              "      filter: drop-shadow(0px 1px 2px rgba(0, 0, 0, 0.3));\n",
              "      fill: #FFFFFF;\n",
              "    }\n",
              "  </style>\n",
              "\n",
              "      <script>\n",
              "        const buttonEl =\n",
              "          document.querySelector('#df-88472d63-d913-4d22-93e5-2655fecf99e6 button.colab-df-convert');\n",
              "        buttonEl.style.display =\n",
              "          google.colab.kernel.accessAllowed ? 'block' : 'none';\n",
              "\n",
              "        async function convertToInteractive(key) {\n",
              "          const element = document.querySelector('#df-88472d63-d913-4d22-93e5-2655fecf99e6');\n",
              "          const dataTable =\n",
              "            await google.colab.kernel.invokeFunction('convertToInteractive',\n",
              "                                                     [key], {});\n",
              "          if (!dataTable) return;\n",
              "\n",
              "          const docLinkHtml = 'Like what you see? Visit the ' +\n",
              "            '<a target=\"_blank\" href=https://colab.research.google.com/notebooks/data_table.ipynb>data table notebook</a>'\n",
              "            + ' to learn more about interactive tables.';\n",
              "          element.innerHTML = '';\n",
              "          dataTable['output_type'] = 'display_data';\n",
              "          await google.colab.output.renderOutput(dataTable, element);\n",
              "          const docLink = document.createElement('div');\n",
              "          docLink.innerHTML = docLinkHtml;\n",
              "          element.appendChild(docLink);\n",
              "        }\n",
              "      </script>\n",
              "    </div>\n",
              "  </div>\n",
              "  "
            ]
          },
          "metadata": {},
          "execution_count": 2
        }
      ]
    },
    {
      "cell_type": "code",
      "source": [
        "data[\"age\"] = round(data[\"age\"])\n",
        "data[\"chest\"] = round(data[\"chest\"])"
      ],
      "metadata": {
        "_kg_hide-output": true,
        "execution": {
          "iopub.status.busy": "2023-05-05T06:49:12.441647Z",
          "iopub.execute_input": "2023-05-05T06:49:12.442075Z",
          "iopub.status.idle": "2023-05-05T06:49:12.465122Z",
          "shell.execute_reply.started": "2023-05-05T06:49:12.442036Z",
          "shell.execute_reply": "2023-05-05T06:49:12.464143Z"
        },
        "trusted": true,
        "id": "JqnJXUpyt59s"
      },
      "execution_count": 3,
      "outputs": []
    },
    {
      "cell_type": "code",
      "source": [
        "data.head()"
      ],
      "metadata": {
        "execution": {
          "iopub.status.busy": "2023-05-05T06:49:12.468795Z",
          "iopub.execute_input": "2023-05-05T06:49:12.469180Z",
          "iopub.status.idle": "2023-05-05T06:49:12.487291Z",
          "shell.execute_reply.started": "2023-05-05T06:49:12.469143Z",
          "shell.execute_reply": "2023-05-05T06:49:12.486156Z"
        },
        "trusted": true,
        "colab": {
          "base_uri": "https://localhost:8080/",
          "height": 270
        },
        "id": "qYZ7tPatt59t",
        "outputId": "4aa4120e-5194-4549-9b2c-53014bc2963c"
      },
      "execution_count": 4,
      "outputs": [
        {
          "output_type": "execute_result",
          "data": {
            "text/plain": [
              "   ID   age  sex  chest  resting_blood_pressure  serum_cholestoral  \\\n",
              "0   0  49.0    0    4.0              162.996167         181.108682   \n",
              "1   1  54.0    1    2.0              130.233730         276.474630   \n",
              "2   2  50.0    1    4.0              146.999012         223.300517   \n",
              "3   3  59.0    1    4.0              112.369143         187.245501   \n",
              "4   4  51.0    1    2.0              138.032047         238.482868   \n",
              "\n",
              "   fasting_blood_sugar  resting_electrocardiographic_results  \\\n",
              "0                    0                                     0   \n",
              "1                    0                                     2   \n",
              "2                    1                                     2   \n",
              "3                    0                                     0   \n",
              "4                    0                                     0   \n",
              "\n",
              "   maximum_heart_rate_achieved  exercise_induced_angina   oldpeak  slope  \\\n",
              "0                   148.227858                        1  0.944547      2   \n",
              "1                   152.917139                        0  0.119070      2   \n",
              "2                   102.352090                        1  1.616747      2   \n",
              "3                   158.164750                        1  0.000000      1   \n",
              "4                   172.540828                        0  1.150464      1   \n",
              "\n",
              "   number_of_major_vessels  thal  class  \n",
              "0                        0     3      1  \n",
              "1                        0     3      0  \n",
              "2                        2     7      1  \n",
              "3                        1     7      1  \n",
              "4                        1     3      0  "
            ],
            "text/html": [
              "\n",
              "  <div id=\"df-2b062061-0da2-484e-9584-fd8fe97e71ea\">\n",
              "    <div class=\"colab-df-container\">\n",
              "      <div>\n",
              "<style scoped>\n",
              "    .dataframe tbody tr th:only-of-type {\n",
              "        vertical-align: middle;\n",
              "    }\n",
              "\n",
              "    .dataframe tbody tr th {\n",
              "        vertical-align: top;\n",
              "    }\n",
              "\n",
              "    .dataframe thead th {\n",
              "        text-align: right;\n",
              "    }\n",
              "</style>\n",
              "<table border=\"1\" class=\"dataframe\">\n",
              "  <thead>\n",
              "    <tr style=\"text-align: right;\">\n",
              "      <th></th>\n",
              "      <th>ID</th>\n",
              "      <th>age</th>\n",
              "      <th>sex</th>\n",
              "      <th>chest</th>\n",
              "      <th>resting_blood_pressure</th>\n",
              "      <th>serum_cholestoral</th>\n",
              "      <th>fasting_blood_sugar</th>\n",
              "      <th>resting_electrocardiographic_results</th>\n",
              "      <th>maximum_heart_rate_achieved</th>\n",
              "      <th>exercise_induced_angina</th>\n",
              "      <th>oldpeak</th>\n",
              "      <th>slope</th>\n",
              "      <th>number_of_major_vessels</th>\n",
              "      <th>thal</th>\n",
              "      <th>class</th>\n",
              "    </tr>\n",
              "  </thead>\n",
              "  <tbody>\n",
              "    <tr>\n",
              "      <th>0</th>\n",
              "      <td>0</td>\n",
              "      <td>49.0</td>\n",
              "      <td>0</td>\n",
              "      <td>4.0</td>\n",
              "      <td>162.996167</td>\n",
              "      <td>181.108682</td>\n",
              "      <td>0</td>\n",
              "      <td>0</td>\n",
              "      <td>148.227858</td>\n",
              "      <td>1</td>\n",
              "      <td>0.944547</td>\n",
              "      <td>2</td>\n",
              "      <td>0</td>\n",
              "      <td>3</td>\n",
              "      <td>1</td>\n",
              "    </tr>\n",
              "    <tr>\n",
              "      <th>1</th>\n",
              "      <td>1</td>\n",
              "      <td>54.0</td>\n",
              "      <td>1</td>\n",
              "      <td>2.0</td>\n",
              "      <td>130.233730</td>\n",
              "      <td>276.474630</td>\n",
              "      <td>0</td>\n",
              "      <td>2</td>\n",
              "      <td>152.917139</td>\n",
              "      <td>0</td>\n",
              "      <td>0.119070</td>\n",
              "      <td>2</td>\n",
              "      <td>0</td>\n",
              "      <td>3</td>\n",
              "      <td>0</td>\n",
              "    </tr>\n",
              "    <tr>\n",
              "      <th>2</th>\n",
              "      <td>2</td>\n",
              "      <td>50.0</td>\n",
              "      <td>1</td>\n",
              "      <td>4.0</td>\n",
              "      <td>146.999012</td>\n",
              "      <td>223.300517</td>\n",
              "      <td>1</td>\n",
              "      <td>2</td>\n",
              "      <td>102.352090</td>\n",
              "      <td>1</td>\n",
              "      <td>1.616747</td>\n",
              "      <td>2</td>\n",
              "      <td>2</td>\n",
              "      <td>7</td>\n",
              "      <td>1</td>\n",
              "    </tr>\n",
              "    <tr>\n",
              "      <th>3</th>\n",
              "      <td>3</td>\n",
              "      <td>59.0</td>\n",
              "      <td>1</td>\n",
              "      <td>4.0</td>\n",
              "      <td>112.369143</td>\n",
              "      <td>187.245501</td>\n",
              "      <td>0</td>\n",
              "      <td>0</td>\n",
              "      <td>158.164750</td>\n",
              "      <td>1</td>\n",
              "      <td>0.000000</td>\n",
              "      <td>1</td>\n",
              "      <td>1</td>\n",
              "      <td>7</td>\n",
              "      <td>1</td>\n",
              "    </tr>\n",
              "    <tr>\n",
              "      <th>4</th>\n",
              "      <td>4</td>\n",
              "      <td>51.0</td>\n",
              "      <td>1</td>\n",
              "      <td>2.0</td>\n",
              "      <td>138.032047</td>\n",
              "      <td>238.482868</td>\n",
              "      <td>0</td>\n",
              "      <td>0</td>\n",
              "      <td>172.540828</td>\n",
              "      <td>0</td>\n",
              "      <td>1.150464</td>\n",
              "      <td>1</td>\n",
              "      <td>1</td>\n",
              "      <td>3</td>\n",
              "      <td>0</td>\n",
              "    </tr>\n",
              "  </tbody>\n",
              "</table>\n",
              "</div>\n",
              "      <button class=\"colab-df-convert\" onclick=\"convertToInteractive('df-2b062061-0da2-484e-9584-fd8fe97e71ea')\"\n",
              "              title=\"Convert this dataframe to an interactive table.\"\n",
              "              style=\"display:none;\">\n",
              "        \n",
              "  <svg xmlns=\"http://www.w3.org/2000/svg\" height=\"24px\"viewBox=\"0 0 24 24\"\n",
              "       width=\"24px\">\n",
              "    <path d=\"M0 0h24v24H0V0z\" fill=\"none\"/>\n",
              "    <path d=\"M18.56 5.44l.94 2.06.94-2.06 2.06-.94-2.06-.94-.94-2.06-.94 2.06-2.06.94zm-11 1L8.5 8.5l.94-2.06 2.06-.94-2.06-.94L8.5 2.5l-.94 2.06-2.06.94zm10 10l.94 2.06.94-2.06 2.06-.94-2.06-.94-.94-2.06-.94 2.06-2.06.94z\"/><path d=\"M17.41 7.96l-1.37-1.37c-.4-.4-.92-.59-1.43-.59-.52 0-1.04.2-1.43.59L10.3 9.45l-7.72 7.72c-.78.78-.78 2.05 0 2.83L4 21.41c.39.39.9.59 1.41.59.51 0 1.02-.2 1.41-.59l7.78-7.78 2.81-2.81c.8-.78.8-2.07 0-2.86zM5.41 20L4 18.59l7.72-7.72 1.47 1.35L5.41 20z\"/>\n",
              "  </svg>\n",
              "      </button>\n",
              "      \n",
              "  <style>\n",
              "    .colab-df-container {\n",
              "      display:flex;\n",
              "      flex-wrap:wrap;\n",
              "      gap: 12px;\n",
              "    }\n",
              "\n",
              "    .colab-df-convert {\n",
              "      background-color: #E8F0FE;\n",
              "      border: none;\n",
              "      border-radius: 50%;\n",
              "      cursor: pointer;\n",
              "      display: none;\n",
              "      fill: #1967D2;\n",
              "      height: 32px;\n",
              "      padding: 0 0 0 0;\n",
              "      width: 32px;\n",
              "    }\n",
              "\n",
              "    .colab-df-convert:hover {\n",
              "      background-color: #E2EBFA;\n",
              "      box-shadow: 0px 1px 2px rgba(60, 64, 67, 0.3), 0px 1px 3px 1px rgba(60, 64, 67, 0.15);\n",
              "      fill: #174EA6;\n",
              "    }\n",
              "\n",
              "    [theme=dark] .colab-df-convert {\n",
              "      background-color: #3B4455;\n",
              "      fill: #D2E3FC;\n",
              "    }\n",
              "\n",
              "    [theme=dark] .colab-df-convert:hover {\n",
              "      background-color: #434B5C;\n",
              "      box-shadow: 0px 1px 3px 1px rgba(0, 0, 0, 0.15);\n",
              "      filter: drop-shadow(0px 1px 2px rgba(0, 0, 0, 0.3));\n",
              "      fill: #FFFFFF;\n",
              "    }\n",
              "  </style>\n",
              "\n",
              "      <script>\n",
              "        const buttonEl =\n",
              "          document.querySelector('#df-2b062061-0da2-484e-9584-fd8fe97e71ea button.colab-df-convert');\n",
              "        buttonEl.style.display =\n",
              "          google.colab.kernel.accessAllowed ? 'block' : 'none';\n",
              "\n",
              "        async function convertToInteractive(key) {\n",
              "          const element = document.querySelector('#df-2b062061-0da2-484e-9584-fd8fe97e71ea');\n",
              "          const dataTable =\n",
              "            await google.colab.kernel.invokeFunction('convertToInteractive',\n",
              "                                                     [key], {});\n",
              "          if (!dataTable) return;\n",
              "\n",
              "          const docLinkHtml = 'Like what you see? Visit the ' +\n",
              "            '<a target=\"_blank\" href=https://colab.research.google.com/notebooks/data_table.ipynb>data table notebook</a>'\n",
              "            + ' to learn more about interactive tables.';\n",
              "          element.innerHTML = '';\n",
              "          dataTable['output_type'] = 'display_data';\n",
              "          await google.colab.output.renderOutput(dataTable, element);\n",
              "          const docLink = document.createElement('div');\n",
              "          docLink.innerHTML = docLinkHtml;\n",
              "          element.appendChild(docLink);\n",
              "        }\n",
              "      </script>\n",
              "    </div>\n",
              "  </div>\n",
              "  "
            ]
          },
          "metadata": {},
          "execution_count": 4
        }
      ]
    },
    {
      "cell_type": "markdown",
      "source": [
        "# Get General Information about The Dataset"
      ],
      "metadata": {
        "id": "cm0agoyKt59t"
      }
    },
    {
      "cell_type": "code",
      "source": [
        "data.info()"
      ],
      "metadata": {
        "execution": {
          "iopub.status.busy": "2023-05-05T06:49:12.489181Z",
          "iopub.execute_input": "2023-05-05T06:49:12.490180Z",
          "iopub.status.idle": "2023-05-05T06:49:12.516769Z",
          "shell.execute_reply.started": "2023-05-05T06:49:12.490140Z",
          "shell.execute_reply": "2023-05-05T06:49:12.515734Z"
        },
        "trusted": true,
        "colab": {
          "base_uri": "https://localhost:8080/"
        },
        "id": "KDmvNtmqt59w",
        "outputId": "4cab7158-e631-4b82-a4a2-216ef7539ee7"
      },
      "execution_count": 5,
      "outputs": [
        {
          "output_type": "stream",
          "name": "stdout",
          "text": [
            "<class 'pandas.core.frame.DataFrame'>\n",
            "RangeIndex: 600000 entries, 0 to 599999\n",
            "Data columns (total 15 columns):\n",
            " #   Column                                Non-Null Count   Dtype  \n",
            "---  ------                                --------------   -----  \n",
            " 0   ID                                    600000 non-null  int64  \n",
            " 1   age                                   600000 non-null  float64\n",
            " 2   sex                                   600000 non-null  int64  \n",
            " 3   chest                                 600000 non-null  float64\n",
            " 4   resting_blood_pressure                600000 non-null  float64\n",
            " 5   serum_cholestoral                     600000 non-null  float64\n",
            " 6   fasting_blood_sugar                   600000 non-null  int64  \n",
            " 7   resting_electrocardiographic_results  600000 non-null  int64  \n",
            " 8   maximum_heart_rate_achieved           600000 non-null  float64\n",
            " 9   exercise_induced_angina               600000 non-null  int64  \n",
            " 10  oldpeak                               600000 non-null  float64\n",
            " 11  slope                                 600000 non-null  int64  \n",
            " 12  number_of_major_vessels               600000 non-null  int64  \n",
            " 13  thal                                  600000 non-null  int64  \n",
            " 14  class                                 600000 non-null  int64  \n",
            "dtypes: float64(6), int64(9)\n",
            "memory usage: 68.7 MB\n"
          ]
        }
      ]
    },
    {
      "cell_type": "code",
      "source": [
        "data.shape"
      ],
      "metadata": {
        "execution": {
          "iopub.status.busy": "2023-05-05T06:49:12.517920Z",
          "iopub.execute_input": "2023-05-05T06:49:12.518733Z",
          "iopub.status.idle": "2023-05-05T06:49:12.524943Z",
          "shell.execute_reply.started": "2023-05-05T06:49:12.518702Z",
          "shell.execute_reply": "2023-05-05T06:49:12.524052Z"
        },
        "trusted": true,
        "colab": {
          "base_uri": "https://localhost:8080/"
        },
        "id": "Ee0sFHNlt59x",
        "outputId": "e85e12a9-259b-4271-9e1a-1419cc39748b"
      },
      "execution_count": 6,
      "outputs": [
        {
          "output_type": "execute_result",
          "data": {
            "text/plain": [
              "(600000, 15)"
            ]
          },
          "metadata": {},
          "execution_count": 6
        }
      ]
    },
    {
      "cell_type": "code",
      "source": [
        "data.describe()"
      ],
      "metadata": {
        "execution": {
          "iopub.status.busy": "2023-05-05T06:49:12.526074Z",
          "iopub.execute_input": "2023-05-05T06:49:12.527066Z",
          "iopub.status.idle": "2023-05-05T06:49:12.821419Z",
          "shell.execute_reply.started": "2023-05-05T06:49:12.527035Z",
          "shell.execute_reply": "2023-05-05T06:49:12.820211Z"
        },
        "trusted": true,
        "colab": {
          "base_uri": "https://localhost:8080/",
          "height": 364
        },
        "id": "jN7eyjrzt59y",
        "outputId": "de697a05-5b84-44b6-98c3-b0b1ae63713d"
      },
      "execution_count": 7,
      "outputs": [
        {
          "output_type": "execute_result",
          "data": {
            "text/plain": [
              "                  ID            age            sex          chest  \\\n",
              "count  600000.000000  600000.000000  600000.000000  600000.000000   \n",
              "mean   299999.500000      54.425282       0.677447       3.171207   \n",
              "std    173205.225094       9.090470       0.467454       0.958954   \n",
              "min         0.000000      26.000000       0.000000      -1.000000   \n",
              "25%    149999.750000      48.000000       0.000000       3.000000   \n",
              "50%    299999.500000      55.000000       1.000000       3.000000   \n",
              "75%    449999.250000      61.000000       1.000000       4.000000   \n",
              "max    599999.000000      80.000000       1.000000       4.000000   \n",
              "\n",
              "       resting_blood_pressure  serum_cholestoral  fasting_blood_sugar  \\\n",
              "count           600000.000000      600000.000000        600000.000000   \n",
              "mean               131.340485         249.592420             0.150757   \n",
              "std                 17.842450          51.699976             0.357812   \n",
              "min                 82.918527          98.326263             0.000000   \n",
              "25%                119.924094         216.475964             0.000000   \n",
              "50%                129.727941         244.233699             0.000000   \n",
              "75%                139.915216         274.345453             0.000000   \n",
              "max                209.673650         527.755764             1.000000   \n",
              "\n",
              "       resting_electrocardiographic_results  maximum_heart_rate_achieved  \\\n",
              "count                         600000.000000                600000.000000   \n",
              "mean                               1.020148                   149.592069   \n",
              "std                                0.994204                    23.072593   \n",
              "min                                0.000000                    61.844168   \n",
              "25%                                0.000000                   135.704237   \n",
              "50%                                2.000000                   153.224828   \n",
              "75%                                2.000000                   165.165497   \n",
              "max                                2.000000                   208.735196   \n",
              "\n",
              "       exercise_induced_angina        oldpeak          slope  \\\n",
              "count            600000.000000  600000.000000  600000.000000   \n",
              "mean                  0.333502       1.051391       1.596033   \n",
              "std                   0.471464       1.144288       0.629821   \n",
              "min                   0.000000      -0.806788       1.000000   \n",
              "25%                   0.000000       0.000000       1.000000   \n",
              "50%                   0.000000       0.811101       2.000000   \n",
              "75%                   1.000000       1.674081       2.000000   \n",
              "max                   1.000000       6.803372       3.000000   \n",
              "\n",
              "       number_of_major_vessels           thal          class  \n",
              "count            600000.000000  600000.000000  600000.000000  \n",
              "mean                  0.681303       4.711378       0.444185  \n",
              "std                   0.950669       1.934766       0.496875  \n",
              "min                   0.000000       3.000000       0.000000  \n",
              "25%                   0.000000       3.000000       0.000000  \n",
              "50%                   0.000000       3.000000       0.000000  \n",
              "75%                   1.000000       7.000000       1.000000  \n",
              "max                   3.000000       7.000000       1.000000  "
            ],
            "text/html": [
              "\n",
              "  <div id=\"df-082fde00-bc4c-4fb6-ae23-6708396b3b88\">\n",
              "    <div class=\"colab-df-container\">\n",
              "      <div>\n",
              "<style scoped>\n",
              "    .dataframe tbody tr th:only-of-type {\n",
              "        vertical-align: middle;\n",
              "    }\n",
              "\n",
              "    .dataframe tbody tr th {\n",
              "        vertical-align: top;\n",
              "    }\n",
              "\n",
              "    .dataframe thead th {\n",
              "        text-align: right;\n",
              "    }\n",
              "</style>\n",
              "<table border=\"1\" class=\"dataframe\">\n",
              "  <thead>\n",
              "    <tr style=\"text-align: right;\">\n",
              "      <th></th>\n",
              "      <th>ID</th>\n",
              "      <th>age</th>\n",
              "      <th>sex</th>\n",
              "      <th>chest</th>\n",
              "      <th>resting_blood_pressure</th>\n",
              "      <th>serum_cholestoral</th>\n",
              "      <th>fasting_blood_sugar</th>\n",
              "      <th>resting_electrocardiographic_results</th>\n",
              "      <th>maximum_heart_rate_achieved</th>\n",
              "      <th>exercise_induced_angina</th>\n",
              "      <th>oldpeak</th>\n",
              "      <th>slope</th>\n",
              "      <th>number_of_major_vessels</th>\n",
              "      <th>thal</th>\n",
              "      <th>class</th>\n",
              "    </tr>\n",
              "  </thead>\n",
              "  <tbody>\n",
              "    <tr>\n",
              "      <th>count</th>\n",
              "      <td>600000.000000</td>\n",
              "      <td>600000.000000</td>\n",
              "      <td>600000.000000</td>\n",
              "      <td>600000.000000</td>\n",
              "      <td>600000.000000</td>\n",
              "      <td>600000.000000</td>\n",
              "      <td>600000.000000</td>\n",
              "      <td>600000.000000</td>\n",
              "      <td>600000.000000</td>\n",
              "      <td>600000.000000</td>\n",
              "      <td>600000.000000</td>\n",
              "      <td>600000.000000</td>\n",
              "      <td>600000.000000</td>\n",
              "      <td>600000.000000</td>\n",
              "      <td>600000.000000</td>\n",
              "    </tr>\n",
              "    <tr>\n",
              "      <th>mean</th>\n",
              "      <td>299999.500000</td>\n",
              "      <td>54.425282</td>\n",
              "      <td>0.677447</td>\n",
              "      <td>3.171207</td>\n",
              "      <td>131.340485</td>\n",
              "      <td>249.592420</td>\n",
              "      <td>0.150757</td>\n",
              "      <td>1.020148</td>\n",
              "      <td>149.592069</td>\n",
              "      <td>0.333502</td>\n",
              "      <td>1.051391</td>\n",
              "      <td>1.596033</td>\n",
              "      <td>0.681303</td>\n",
              "      <td>4.711378</td>\n",
              "      <td>0.444185</td>\n",
              "    </tr>\n",
              "    <tr>\n",
              "      <th>std</th>\n",
              "      <td>173205.225094</td>\n",
              "      <td>9.090470</td>\n",
              "      <td>0.467454</td>\n",
              "      <td>0.958954</td>\n",
              "      <td>17.842450</td>\n",
              "      <td>51.699976</td>\n",
              "      <td>0.357812</td>\n",
              "      <td>0.994204</td>\n",
              "      <td>23.072593</td>\n",
              "      <td>0.471464</td>\n",
              "      <td>1.144288</td>\n",
              "      <td>0.629821</td>\n",
              "      <td>0.950669</td>\n",
              "      <td>1.934766</td>\n",
              "      <td>0.496875</td>\n",
              "    </tr>\n",
              "    <tr>\n",
              "      <th>min</th>\n",
              "      <td>0.000000</td>\n",
              "      <td>26.000000</td>\n",
              "      <td>0.000000</td>\n",
              "      <td>-1.000000</td>\n",
              "      <td>82.918527</td>\n",
              "      <td>98.326263</td>\n",
              "      <td>0.000000</td>\n",
              "      <td>0.000000</td>\n",
              "      <td>61.844168</td>\n",
              "      <td>0.000000</td>\n",
              "      <td>-0.806788</td>\n",
              "      <td>1.000000</td>\n",
              "      <td>0.000000</td>\n",
              "      <td>3.000000</td>\n",
              "      <td>0.000000</td>\n",
              "    </tr>\n",
              "    <tr>\n",
              "      <th>25%</th>\n",
              "      <td>149999.750000</td>\n",
              "      <td>48.000000</td>\n",
              "      <td>0.000000</td>\n",
              "      <td>3.000000</td>\n",
              "      <td>119.924094</td>\n",
              "      <td>216.475964</td>\n",
              "      <td>0.000000</td>\n",
              "      <td>0.000000</td>\n",
              "      <td>135.704237</td>\n",
              "      <td>0.000000</td>\n",
              "      <td>0.000000</td>\n",
              "      <td>1.000000</td>\n",
              "      <td>0.000000</td>\n",
              "      <td>3.000000</td>\n",
              "      <td>0.000000</td>\n",
              "    </tr>\n",
              "    <tr>\n",
              "      <th>50%</th>\n",
              "      <td>299999.500000</td>\n",
              "      <td>55.000000</td>\n",
              "      <td>1.000000</td>\n",
              "      <td>3.000000</td>\n",
              "      <td>129.727941</td>\n",
              "      <td>244.233699</td>\n",
              "      <td>0.000000</td>\n",
              "      <td>2.000000</td>\n",
              "      <td>153.224828</td>\n",
              "      <td>0.000000</td>\n",
              "      <td>0.811101</td>\n",
              "      <td>2.000000</td>\n",
              "      <td>0.000000</td>\n",
              "      <td>3.000000</td>\n",
              "      <td>0.000000</td>\n",
              "    </tr>\n",
              "    <tr>\n",
              "      <th>75%</th>\n",
              "      <td>449999.250000</td>\n",
              "      <td>61.000000</td>\n",
              "      <td>1.000000</td>\n",
              "      <td>4.000000</td>\n",
              "      <td>139.915216</td>\n",
              "      <td>274.345453</td>\n",
              "      <td>0.000000</td>\n",
              "      <td>2.000000</td>\n",
              "      <td>165.165497</td>\n",
              "      <td>1.000000</td>\n",
              "      <td>1.674081</td>\n",
              "      <td>2.000000</td>\n",
              "      <td>1.000000</td>\n",
              "      <td>7.000000</td>\n",
              "      <td>1.000000</td>\n",
              "    </tr>\n",
              "    <tr>\n",
              "      <th>max</th>\n",
              "      <td>599999.000000</td>\n",
              "      <td>80.000000</td>\n",
              "      <td>1.000000</td>\n",
              "      <td>4.000000</td>\n",
              "      <td>209.673650</td>\n",
              "      <td>527.755764</td>\n",
              "      <td>1.000000</td>\n",
              "      <td>2.000000</td>\n",
              "      <td>208.735196</td>\n",
              "      <td>1.000000</td>\n",
              "      <td>6.803372</td>\n",
              "      <td>3.000000</td>\n",
              "      <td>3.000000</td>\n",
              "      <td>7.000000</td>\n",
              "      <td>1.000000</td>\n",
              "    </tr>\n",
              "  </tbody>\n",
              "</table>\n",
              "</div>\n",
              "      <button class=\"colab-df-convert\" onclick=\"convertToInteractive('df-082fde00-bc4c-4fb6-ae23-6708396b3b88')\"\n",
              "              title=\"Convert this dataframe to an interactive table.\"\n",
              "              style=\"display:none;\">\n",
              "        \n",
              "  <svg xmlns=\"http://www.w3.org/2000/svg\" height=\"24px\"viewBox=\"0 0 24 24\"\n",
              "       width=\"24px\">\n",
              "    <path d=\"M0 0h24v24H0V0z\" fill=\"none\"/>\n",
              "    <path d=\"M18.56 5.44l.94 2.06.94-2.06 2.06-.94-2.06-.94-.94-2.06-.94 2.06-2.06.94zm-11 1L8.5 8.5l.94-2.06 2.06-.94-2.06-.94L8.5 2.5l-.94 2.06-2.06.94zm10 10l.94 2.06.94-2.06 2.06-.94-2.06-.94-.94-2.06-.94 2.06-2.06.94z\"/><path d=\"M17.41 7.96l-1.37-1.37c-.4-.4-.92-.59-1.43-.59-.52 0-1.04.2-1.43.59L10.3 9.45l-7.72 7.72c-.78.78-.78 2.05 0 2.83L4 21.41c.39.39.9.59 1.41.59.51 0 1.02-.2 1.41-.59l7.78-7.78 2.81-2.81c.8-.78.8-2.07 0-2.86zM5.41 20L4 18.59l7.72-7.72 1.47 1.35L5.41 20z\"/>\n",
              "  </svg>\n",
              "      </button>\n",
              "      \n",
              "  <style>\n",
              "    .colab-df-container {\n",
              "      display:flex;\n",
              "      flex-wrap:wrap;\n",
              "      gap: 12px;\n",
              "    }\n",
              "\n",
              "    .colab-df-convert {\n",
              "      background-color: #E8F0FE;\n",
              "      border: none;\n",
              "      border-radius: 50%;\n",
              "      cursor: pointer;\n",
              "      display: none;\n",
              "      fill: #1967D2;\n",
              "      height: 32px;\n",
              "      padding: 0 0 0 0;\n",
              "      width: 32px;\n",
              "    }\n",
              "\n",
              "    .colab-df-convert:hover {\n",
              "      background-color: #E2EBFA;\n",
              "      box-shadow: 0px 1px 2px rgba(60, 64, 67, 0.3), 0px 1px 3px 1px rgba(60, 64, 67, 0.15);\n",
              "      fill: #174EA6;\n",
              "    }\n",
              "\n",
              "    [theme=dark] .colab-df-convert {\n",
              "      background-color: #3B4455;\n",
              "      fill: #D2E3FC;\n",
              "    }\n",
              "\n",
              "    [theme=dark] .colab-df-convert:hover {\n",
              "      background-color: #434B5C;\n",
              "      box-shadow: 0px 1px 3px 1px rgba(0, 0, 0, 0.15);\n",
              "      filter: drop-shadow(0px 1px 2px rgba(0, 0, 0, 0.3));\n",
              "      fill: #FFFFFF;\n",
              "    }\n",
              "  </style>\n",
              "\n",
              "      <script>\n",
              "        const buttonEl =\n",
              "          document.querySelector('#df-082fde00-bc4c-4fb6-ae23-6708396b3b88 button.colab-df-convert');\n",
              "        buttonEl.style.display =\n",
              "          google.colab.kernel.accessAllowed ? 'block' : 'none';\n",
              "\n",
              "        async function convertToInteractive(key) {\n",
              "          const element = document.querySelector('#df-082fde00-bc4c-4fb6-ae23-6708396b3b88');\n",
              "          const dataTable =\n",
              "            await google.colab.kernel.invokeFunction('convertToInteractive',\n",
              "                                                     [key], {});\n",
              "          if (!dataTable) return;\n",
              "\n",
              "          const docLinkHtml = 'Like what you see? Visit the ' +\n",
              "            '<a target=\"_blank\" href=https://colab.research.google.com/notebooks/data_table.ipynb>data table notebook</a>'\n",
              "            + ' to learn more about interactive tables.';\n",
              "          element.innerHTML = '';\n",
              "          dataTable['output_type'] = 'display_data';\n",
              "          await google.colab.output.renderOutput(dataTable, element);\n",
              "          const docLink = document.createElement('div');\n",
              "          docLink.innerHTML = docLinkHtml;\n",
              "          element.appendChild(docLink);\n",
              "        }\n",
              "      </script>\n",
              "    </div>\n",
              "  </div>\n",
              "  "
            ]
          },
          "metadata": {},
          "execution_count": 7
        }
      ]
    },
    {
      "cell_type": "code",
      "source": [
        "data.nunique(axis=0)"
      ],
      "metadata": {
        "execution": {
          "iopub.status.busy": "2023-05-05T06:49:12.823336Z",
          "iopub.execute_input": "2023-05-05T06:49:12.823744Z",
          "iopub.status.idle": "2023-05-05T06:49:13.034444Z",
          "shell.execute_reply.started": "2023-05-05T06:49:12.823709Z",
          "shell.execute_reply": "2023-05-05T06:49:13.033383Z"
        },
        "trusted": true,
        "colab": {
          "base_uri": "https://localhost:8080/"
        },
        "id": "_5a7_yfxt59z",
        "outputId": "6be42006-3d22-49cb-961d-8be0739c65b4"
      },
      "execution_count": 8,
      "outputs": [
        {
          "output_type": "execute_result",
          "data": {
            "text/plain": [
              "ID                                      600000\n",
              "age                                         55\n",
              "sex                                          2\n",
              "chest                                        6\n",
              "resting_blood_pressure                  596241\n",
              "serum_cholestoral                       598797\n",
              "fasting_blood_sugar                          2\n",
              "resting_electrocardiographic_results         3\n",
              "maximum_heart_rate_achieved             597583\n",
              "exercise_induced_angina                      2\n",
              "oldpeak                                 384255\n",
              "slope                                        3\n",
              "number_of_major_vessels                      4\n",
              "thal                                         3\n",
              "class                                        2\n",
              "dtype: int64"
            ]
          },
          "metadata": {},
          "execution_count": 8
        }
      ]
    },
    {
      "cell_type": "markdown",
      "source": [
        "# Checking The Balance of the Target"
      ],
      "metadata": {
        "id": "pacDsNi0t59z"
      }
    },
    {
      "cell_type": "code",
      "source": [
        "data[\"class\"].value_counts()"
      ],
      "metadata": {
        "execution": {
          "iopub.status.busy": "2023-05-05T06:49:13.036266Z",
          "iopub.execute_input": "2023-05-05T06:49:13.036652Z",
          "iopub.status.idle": "2023-05-05T06:49:13.048991Z",
          "shell.execute_reply.started": "2023-05-05T06:49:13.036615Z",
          "shell.execute_reply": "2023-05-05T06:49:13.048003Z"
        },
        "trusted": true,
        "colab": {
          "base_uri": "https://localhost:8080/"
        },
        "id": "u87bwFZmt590",
        "outputId": "0ef8ec68-3c7d-4741-8495-a177ce7d66fe"
      },
      "execution_count": 9,
      "outputs": [
        {
          "output_type": "execute_result",
          "data": {
            "text/plain": [
              "0    333489\n",
              "1    266511\n",
              "Name: class, dtype: int64"
            ]
          },
          "metadata": {},
          "execution_count": 9
        }
      ]
    },
    {
      "cell_type": "markdown",
      "source": [
        "<h1 style=\"color: teal\"><center>Cholestrol</center></h1>\n",
        "<h2>ranges</h2>\n",
        "<hr>\n",
        "<h3>Normal: less than 200 mg/dl</h3>\n",
        "<br>\n",
        "<br>\n",
        "<h3>BorderLine High: 200 to 239 mg/dl</h3>\n",
        "<br>\n",
        "<br>\n",
        "<h3>High: 240 mg/dl or above</h3>\n",
        "<hr>"
      ],
      "metadata": {
        "id": "_Jik7UpFt590"
      }
    },
    {
      "cell_type": "markdown",
      "source": [
        "<h1 style=\"color: teal\"><center>fasting blood sugar</center></h1>\n",
        "<h2>A blood test done to measure the basal sugar levels of blood, usually done in the morning after long hours of fast at night.</h2>\n",
        "<hr>"
      ],
      "metadata": {
        "id": "WbFfDUatt590"
      }
    },
    {
      "cell_type": "markdown",
      "source": [
        "<h1 style=\"color: teal\"><center>exercise_induced_angina</center></h1>\n",
        "<h2>Chest pain that comes on with exercise, stress, or other things that make the heart work harder. It is a symptom of coronary artery disease, which is caused by cholesterol-clogged coronary arteries. It can be triggered by a cold environment, vasospasm, or heavy meal. It usually resolves by stopping exercise or with nitroglycerin. It can be fatal if not appropriately managed.</h2>\n",
        "<hr>"
      ],
      "metadata": {
        "id": "dpYH5Py4t591"
      }
    },
    {
      "cell_type": "markdown",
      "source": [
        "<h1 style=\"color: teal\"><center>OldPeak</center></h1>\n",
        "<h2>ST segment depression less than 0.5 mm is accepted in all leads. ST segment depression 0.5 mm or more is considered pathological. According to some expert consensus documents, any segment of depression in V2–V3 should be considered abnormal.</h2>\n",
        "<hr>"
      ],
      "metadata": {
        "id": "-svyC1K6t591"
      }
    },
    {
      "cell_type": "markdown",
      "source": [
        "# Checking NULL Values"
      ],
      "metadata": {
        "id": "YuEIbDLVt591"
      }
    },
    {
      "cell_type": "code",
      "source": [
        "data.isnull().sum()"
      ],
      "metadata": {
        "execution": {
          "iopub.status.busy": "2023-05-05T06:49:13.050252Z",
          "iopub.execute_input": "2023-05-05T06:49:13.051735Z",
          "iopub.status.idle": "2023-05-05T06:49:13.074161Z",
          "shell.execute_reply.started": "2023-05-05T06:49:13.051647Z",
          "shell.execute_reply": "2023-05-05T06:49:13.073109Z"
        },
        "trusted": true,
        "colab": {
          "base_uri": "https://localhost:8080/"
        },
        "id": "I57RAUPst592",
        "outputId": "4b0408c0-cf19-4d98-dc6c-f0870bf5b856"
      },
      "execution_count": 10,
      "outputs": [
        {
          "output_type": "execute_result",
          "data": {
            "text/plain": [
              "ID                                      0\n",
              "age                                     0\n",
              "sex                                     0\n",
              "chest                                   0\n",
              "resting_blood_pressure                  0\n",
              "serum_cholestoral                       0\n",
              "fasting_blood_sugar                     0\n",
              "resting_electrocardiographic_results    0\n",
              "maximum_heart_rate_achieved             0\n",
              "exercise_induced_angina                 0\n",
              "oldpeak                                 0\n",
              "slope                                   0\n",
              "number_of_major_vessels                 0\n",
              "thal                                    0\n",
              "class                                   0\n",
              "dtype: int64"
            ]
          },
          "metadata": {},
          "execution_count": 10
        }
      ]
    },
    {
      "cell_type": "markdown",
      "source": [
        "# Dropping Unnecessary Columns"
      ],
      "metadata": {
        "id": "ql07O5K-t592"
      }
    },
    {
      "cell_type": "code",
      "source": [
        "data = data.drop([\"ID\"], axis=1)\n",
        "test_data = test_data.drop(['ID'], axis=1)"
      ],
      "metadata": {
        "execution": {
          "iopub.status.busy": "2023-05-05T06:49:13.075848Z",
          "iopub.execute_input": "2023-05-05T06:49:13.076170Z",
          "iopub.status.idle": "2023-05-05T06:49:13.103033Z",
          "shell.execute_reply.started": "2023-05-05T06:49:13.076139Z",
          "shell.execute_reply": "2023-05-05T06:49:13.101714Z"
        },
        "trusted": true,
        "id": "R53vOI6Pt592"
      },
      "execution_count": 11,
      "outputs": []
    },
    {
      "cell_type": "code",
      "source": [
        "data.head()"
      ],
      "metadata": {
        "execution": {
          "iopub.status.busy": "2023-05-05T06:49:13.105208Z",
          "iopub.execute_input": "2023-05-05T06:49:13.105595Z",
          "iopub.status.idle": "2023-05-05T06:49:13.127512Z",
          "shell.execute_reply.started": "2023-05-05T06:49:13.105562Z",
          "shell.execute_reply": "2023-05-05T06:49:13.126590Z"
        },
        "trusted": true,
        "colab": {
          "base_uri": "https://localhost:8080/",
          "height": 270
        },
        "id": "VqMu_nPnt592",
        "outputId": "43be3650-4f48-4dae-e965-83332d945abc"
      },
      "execution_count": 12,
      "outputs": [
        {
          "output_type": "execute_result",
          "data": {
            "text/plain": [
              "    age  sex  chest  resting_blood_pressure  serum_cholestoral  \\\n",
              "0  49.0    0    4.0              162.996167         181.108682   \n",
              "1  54.0    1    2.0              130.233730         276.474630   \n",
              "2  50.0    1    4.0              146.999012         223.300517   \n",
              "3  59.0    1    4.0              112.369143         187.245501   \n",
              "4  51.0    1    2.0              138.032047         238.482868   \n",
              "\n",
              "   fasting_blood_sugar  resting_electrocardiographic_results  \\\n",
              "0                    0                                     0   \n",
              "1                    0                                     2   \n",
              "2                    1                                     2   \n",
              "3                    0                                     0   \n",
              "4                    0                                     0   \n",
              "\n",
              "   maximum_heart_rate_achieved  exercise_induced_angina   oldpeak  slope  \\\n",
              "0                   148.227858                        1  0.944547      2   \n",
              "1                   152.917139                        0  0.119070      2   \n",
              "2                   102.352090                        1  1.616747      2   \n",
              "3                   158.164750                        1  0.000000      1   \n",
              "4                   172.540828                        0  1.150464      1   \n",
              "\n",
              "   number_of_major_vessels  thal  class  \n",
              "0                        0     3      1  \n",
              "1                        0     3      0  \n",
              "2                        2     7      1  \n",
              "3                        1     7      1  \n",
              "4                        1     3      0  "
            ],
            "text/html": [
              "\n",
              "  <div id=\"df-49cf3dd7-0025-4bb4-aedd-f6e5ad4161c0\">\n",
              "    <div class=\"colab-df-container\">\n",
              "      <div>\n",
              "<style scoped>\n",
              "    .dataframe tbody tr th:only-of-type {\n",
              "        vertical-align: middle;\n",
              "    }\n",
              "\n",
              "    .dataframe tbody tr th {\n",
              "        vertical-align: top;\n",
              "    }\n",
              "\n",
              "    .dataframe thead th {\n",
              "        text-align: right;\n",
              "    }\n",
              "</style>\n",
              "<table border=\"1\" class=\"dataframe\">\n",
              "  <thead>\n",
              "    <tr style=\"text-align: right;\">\n",
              "      <th></th>\n",
              "      <th>age</th>\n",
              "      <th>sex</th>\n",
              "      <th>chest</th>\n",
              "      <th>resting_blood_pressure</th>\n",
              "      <th>serum_cholestoral</th>\n",
              "      <th>fasting_blood_sugar</th>\n",
              "      <th>resting_electrocardiographic_results</th>\n",
              "      <th>maximum_heart_rate_achieved</th>\n",
              "      <th>exercise_induced_angina</th>\n",
              "      <th>oldpeak</th>\n",
              "      <th>slope</th>\n",
              "      <th>number_of_major_vessels</th>\n",
              "      <th>thal</th>\n",
              "      <th>class</th>\n",
              "    </tr>\n",
              "  </thead>\n",
              "  <tbody>\n",
              "    <tr>\n",
              "      <th>0</th>\n",
              "      <td>49.0</td>\n",
              "      <td>0</td>\n",
              "      <td>4.0</td>\n",
              "      <td>162.996167</td>\n",
              "      <td>181.108682</td>\n",
              "      <td>0</td>\n",
              "      <td>0</td>\n",
              "      <td>148.227858</td>\n",
              "      <td>1</td>\n",
              "      <td>0.944547</td>\n",
              "      <td>2</td>\n",
              "      <td>0</td>\n",
              "      <td>3</td>\n",
              "      <td>1</td>\n",
              "    </tr>\n",
              "    <tr>\n",
              "      <th>1</th>\n",
              "      <td>54.0</td>\n",
              "      <td>1</td>\n",
              "      <td>2.0</td>\n",
              "      <td>130.233730</td>\n",
              "      <td>276.474630</td>\n",
              "      <td>0</td>\n",
              "      <td>2</td>\n",
              "      <td>152.917139</td>\n",
              "      <td>0</td>\n",
              "      <td>0.119070</td>\n",
              "      <td>2</td>\n",
              "      <td>0</td>\n",
              "      <td>3</td>\n",
              "      <td>0</td>\n",
              "    </tr>\n",
              "    <tr>\n",
              "      <th>2</th>\n",
              "      <td>50.0</td>\n",
              "      <td>1</td>\n",
              "      <td>4.0</td>\n",
              "      <td>146.999012</td>\n",
              "      <td>223.300517</td>\n",
              "      <td>1</td>\n",
              "      <td>2</td>\n",
              "      <td>102.352090</td>\n",
              "      <td>1</td>\n",
              "      <td>1.616747</td>\n",
              "      <td>2</td>\n",
              "      <td>2</td>\n",
              "      <td>7</td>\n",
              "      <td>1</td>\n",
              "    </tr>\n",
              "    <tr>\n",
              "      <th>3</th>\n",
              "      <td>59.0</td>\n",
              "      <td>1</td>\n",
              "      <td>4.0</td>\n",
              "      <td>112.369143</td>\n",
              "      <td>187.245501</td>\n",
              "      <td>0</td>\n",
              "      <td>0</td>\n",
              "      <td>158.164750</td>\n",
              "      <td>1</td>\n",
              "      <td>0.000000</td>\n",
              "      <td>1</td>\n",
              "      <td>1</td>\n",
              "      <td>7</td>\n",
              "      <td>1</td>\n",
              "    </tr>\n",
              "    <tr>\n",
              "      <th>4</th>\n",
              "      <td>51.0</td>\n",
              "      <td>1</td>\n",
              "      <td>2.0</td>\n",
              "      <td>138.032047</td>\n",
              "      <td>238.482868</td>\n",
              "      <td>0</td>\n",
              "      <td>0</td>\n",
              "      <td>172.540828</td>\n",
              "      <td>0</td>\n",
              "      <td>1.150464</td>\n",
              "      <td>1</td>\n",
              "      <td>1</td>\n",
              "      <td>3</td>\n",
              "      <td>0</td>\n",
              "    </tr>\n",
              "  </tbody>\n",
              "</table>\n",
              "</div>\n",
              "      <button class=\"colab-df-convert\" onclick=\"convertToInteractive('df-49cf3dd7-0025-4bb4-aedd-f6e5ad4161c0')\"\n",
              "              title=\"Convert this dataframe to an interactive table.\"\n",
              "              style=\"display:none;\">\n",
              "        \n",
              "  <svg xmlns=\"http://www.w3.org/2000/svg\" height=\"24px\"viewBox=\"0 0 24 24\"\n",
              "       width=\"24px\">\n",
              "    <path d=\"M0 0h24v24H0V0z\" fill=\"none\"/>\n",
              "    <path d=\"M18.56 5.44l.94 2.06.94-2.06 2.06-.94-2.06-.94-.94-2.06-.94 2.06-2.06.94zm-11 1L8.5 8.5l.94-2.06 2.06-.94-2.06-.94L8.5 2.5l-.94 2.06-2.06.94zm10 10l.94 2.06.94-2.06 2.06-.94-2.06-.94-.94-2.06-.94 2.06-2.06.94z\"/><path d=\"M17.41 7.96l-1.37-1.37c-.4-.4-.92-.59-1.43-.59-.52 0-1.04.2-1.43.59L10.3 9.45l-7.72 7.72c-.78.78-.78 2.05 0 2.83L4 21.41c.39.39.9.59 1.41.59.51 0 1.02-.2 1.41-.59l7.78-7.78 2.81-2.81c.8-.78.8-2.07 0-2.86zM5.41 20L4 18.59l7.72-7.72 1.47 1.35L5.41 20z\"/>\n",
              "  </svg>\n",
              "      </button>\n",
              "      \n",
              "  <style>\n",
              "    .colab-df-container {\n",
              "      display:flex;\n",
              "      flex-wrap:wrap;\n",
              "      gap: 12px;\n",
              "    }\n",
              "\n",
              "    .colab-df-convert {\n",
              "      background-color: #E8F0FE;\n",
              "      border: none;\n",
              "      border-radius: 50%;\n",
              "      cursor: pointer;\n",
              "      display: none;\n",
              "      fill: #1967D2;\n",
              "      height: 32px;\n",
              "      padding: 0 0 0 0;\n",
              "      width: 32px;\n",
              "    }\n",
              "\n",
              "    .colab-df-convert:hover {\n",
              "      background-color: #E2EBFA;\n",
              "      box-shadow: 0px 1px 2px rgba(60, 64, 67, 0.3), 0px 1px 3px 1px rgba(60, 64, 67, 0.15);\n",
              "      fill: #174EA6;\n",
              "    }\n",
              "\n",
              "    [theme=dark] .colab-df-convert {\n",
              "      background-color: #3B4455;\n",
              "      fill: #D2E3FC;\n",
              "    }\n",
              "\n",
              "    [theme=dark] .colab-df-convert:hover {\n",
              "      background-color: #434B5C;\n",
              "      box-shadow: 0px 1px 3px 1px rgba(0, 0, 0, 0.15);\n",
              "      filter: drop-shadow(0px 1px 2px rgba(0, 0, 0, 0.3));\n",
              "      fill: #FFFFFF;\n",
              "    }\n",
              "  </style>\n",
              "\n",
              "      <script>\n",
              "        const buttonEl =\n",
              "          document.querySelector('#df-49cf3dd7-0025-4bb4-aedd-f6e5ad4161c0 button.colab-df-convert');\n",
              "        buttonEl.style.display =\n",
              "          google.colab.kernel.accessAllowed ? 'block' : 'none';\n",
              "\n",
              "        async function convertToInteractive(key) {\n",
              "          const element = document.querySelector('#df-49cf3dd7-0025-4bb4-aedd-f6e5ad4161c0');\n",
              "          const dataTable =\n",
              "            await google.colab.kernel.invokeFunction('convertToInteractive',\n",
              "                                                     [key], {});\n",
              "          if (!dataTable) return;\n",
              "\n",
              "          const docLinkHtml = 'Like what you see? Visit the ' +\n",
              "            '<a target=\"_blank\" href=https://colab.research.google.com/notebooks/data_table.ipynb>data table notebook</a>'\n",
              "            + ' to learn more about interactive tables.';\n",
              "          element.innerHTML = '';\n",
              "          dataTable['output_type'] = 'display_data';\n",
              "          await google.colab.output.renderOutput(dataTable, element);\n",
              "          const docLink = document.createElement('div');\n",
              "          docLink.innerHTML = docLinkHtml;\n",
              "          element.appendChild(docLink);\n",
              "        }\n",
              "      </script>\n",
              "    </div>\n",
              "  </div>\n",
              "  "
            ]
          },
          "metadata": {},
          "execution_count": 12
        }
      ]
    },
    {
      "cell_type": "code",
      "source": [
        "data[\"thal_norm\"] = data[\"thal\"]==3\n",
        "data[\"thal_fix_def\"] = data[\"thal\"]==6\n",
        "data[\"thal_rev_def\"] = data[\"thal\"]==7\n",
        "\n",
        "test_data[\"thal_norm\"] = test_data[\"thal\"]==3\n",
        "test_data[\"thal_fix_def\"] = test_data[\"thal\"]==6\n",
        "test_data[\"thal_rev_def\"] = test_data[\"thal\"]==7"
      ],
      "metadata": {
        "execution": {
          "iopub.status.busy": "2023-05-05T06:49:13.132668Z",
          "iopub.execute_input": "2023-05-05T06:49:13.132919Z",
          "iopub.status.idle": "2023-05-05T06:49:13.141797Z",
          "shell.execute_reply.started": "2023-05-05T06:49:13.132897Z",
          "shell.execute_reply": "2023-05-05T06:49:13.140692Z"
        },
        "trusted": true,
        "id": "9prFbvQ7t593"
      },
      "execution_count": 62,
      "outputs": []
    },
    {
      "cell_type": "code",
      "source": [
        "data['thal_norm'] = data['thal_norm'].astype(int)\n",
        "data['thal_fix_def'] = data['thal_fix_def'].astype(int)\n",
        "data['thal_rev_def'] = data['thal_rev_def'].astype(int)\n",
        "\n",
        "\n",
        "test_data['thal_norm'] = test_data['thal_norm'].astype(int)\n",
        "test_data['thal_fix_def'] = test_data['thal_fix_def'].astype(int)\n",
        "test_data['thal_rev_def'] = test_data['thal_rev_def'].astype(int)"
      ],
      "metadata": {
        "execution": {
          "iopub.status.busy": "2023-05-05T06:49:13.143001Z",
          "iopub.execute_input": "2023-05-05T06:49:13.143387Z",
          "iopub.status.idle": "2023-05-05T06:49:13.157051Z",
          "shell.execute_reply.started": "2023-05-05T06:49:13.143356Z",
          "shell.execute_reply": "2023-05-05T06:49:13.155942Z"
        },
        "trusted": true,
        "id": "N1mWT61dt593"
      },
      "execution_count": 63,
      "outputs": []
    },
    {
      "cell_type": "code",
      "source": [
        "data = data.drop([\"thal\"], axis=1)\n",
        "test_data = test_data.drop([\"thal\"], axis=1)"
      ],
      "metadata": {
        "execution": {
          "iopub.status.busy": "2023-05-05T06:49:13.158564Z",
          "iopub.execute_input": "2023-05-05T06:49:13.158910Z",
          "iopub.status.idle": "2023-05-05T06:49:13.203745Z",
          "shell.execute_reply.started": "2023-05-05T06:49:13.158880Z",
          "shell.execute_reply": "2023-05-05T06:49:13.202554Z"
        },
        "trusted": true,
        "id": "jrAjaUuCt593"
      },
      "execution_count": 65,
      "outputs": []
    },
    {
      "cell_type": "code",
      "source": [
        "data = pd.get_dummies(data, prefix=[\"number_of_major_vessels\", \"exercise_induced_angina\", \"resting_electrocardiographic_results\", \"fasting_blood_sugar\"],\n",
        "                            columns=[\"number_of_major_vessels\", \"exercise_induced_angina\", \"resting_electrocardiographic_results\", \"fasting_blood_sugar\"],\n",
        "                            drop_first=True)"
      ],
      "metadata": {
        "execution": {
          "iopub.status.busy": "2023-05-05T06:49:13.205508Z",
          "iopub.execute_input": "2023-05-05T06:49:13.205918Z",
          "iopub.status.idle": "2023-05-05T06:49:13.359502Z",
          "shell.execute_reply.started": "2023-05-05T06:49:13.205884Z",
          "shell.execute_reply": "2023-05-05T06:49:13.358403Z"
        },
        "trusted": true,
        "id": "YQINkpI5t593"
      },
      "execution_count": 16,
      "outputs": []
    },
    {
      "cell_type": "code",
      "source": [
        "test_data = pd.get_dummies(test_data, prefix=[\"number_of_major_vessels\", \"exercise_induced_angina\", \"resting_electrocardiographic_results\", \"fasting_blood_sugar\"],\n",
        "                            columns=[\"number_of_major_vessels\", \"exercise_induced_angina\", \"resting_electrocardiographic_results\", \"fasting_blood_sugar\"],\n",
        "                            drop_first=True)"
      ],
      "metadata": {
        "id": "XRzoZm1sKga4"
      },
      "execution_count": 66,
      "outputs": []
    },
    {
      "cell_type": "code",
      "source": [
        "data.info()"
      ],
      "metadata": {
        "execution": {
          "iopub.status.busy": "2023-05-05T06:49:13.361296Z",
          "iopub.execute_input": "2023-05-05T06:49:13.361726Z",
          "iopub.status.idle": "2023-05-05T06:49:13.390570Z",
          "shell.execute_reply.started": "2023-05-05T06:49:13.361691Z",
          "shell.execute_reply": "2023-05-05T06:49:13.389316Z"
        },
        "trusted": true,
        "colab": {
          "base_uri": "https://localhost:8080/"
        },
        "id": "9YxIKmi9t594",
        "outputId": "b931d2d5-e572-42e4-c31c-8964e040ec7c"
      },
      "execution_count": 17,
      "outputs": [
        {
          "output_type": "stream",
          "name": "stdout",
          "text": [
            "<class 'pandas.core.frame.DataFrame'>\n",
            "RangeIndex: 600000 entries, 0 to 599999\n",
            "Data columns (total 19 columns):\n",
            " #   Column                                  Non-Null Count   Dtype  \n",
            "---  ------                                  --------------   -----  \n",
            " 0   age                                     600000 non-null  float64\n",
            " 1   sex                                     600000 non-null  int64  \n",
            " 2   chest                                   600000 non-null  float64\n",
            " 3   resting_blood_pressure                  600000 non-null  float64\n",
            " 4   serum_cholestoral                       600000 non-null  float64\n",
            " 5   maximum_heart_rate_achieved             600000 non-null  float64\n",
            " 6   oldpeak                                 600000 non-null  float64\n",
            " 7   slope                                   600000 non-null  int64  \n",
            " 8   class                                   600000 non-null  int64  \n",
            " 9   thal_norm                               600000 non-null  int64  \n",
            " 10  thal_fix_def                            600000 non-null  int64  \n",
            " 11  thal_rev_def                            600000 non-null  int64  \n",
            " 12  number_of_major_vessels_1               600000 non-null  uint8  \n",
            " 13  number_of_major_vessels_2               600000 non-null  uint8  \n",
            " 14  number_of_major_vessels_3               600000 non-null  uint8  \n",
            " 15  exercise_induced_angina_1               600000 non-null  uint8  \n",
            " 16  resting_electrocardiographic_results_1  600000 non-null  uint8  \n",
            " 17  resting_electrocardiographic_results_2  600000 non-null  uint8  \n",
            " 18  fasting_blood_sugar_1                   600000 non-null  uint8  \n",
            "dtypes: float64(6), int64(6), uint8(7)\n",
            "memory usage: 58.9 MB\n"
          ]
        }
      ]
    },
    {
      "cell_type": "markdown",
      "source": [
        "# Putting back the Target column at the end"
      ],
      "metadata": {
        "id": "EYy2iLEwt595"
      }
    },
    {
      "cell_type": "code",
      "source": [
        "data.columns"
      ],
      "metadata": {
        "execution": {
          "iopub.status.busy": "2023-05-05T06:49:13.392158Z",
          "iopub.execute_input": "2023-05-05T06:49:13.392809Z",
          "iopub.status.idle": "2023-05-05T06:49:13.402224Z",
          "shell.execute_reply.started": "2023-05-05T06:49:13.392772Z",
          "shell.execute_reply": "2023-05-05T06:49:13.400923Z"
        },
        "trusted": true,
        "colab": {
          "base_uri": "https://localhost:8080/"
        },
        "id": "ppQT4vUCt595",
        "outputId": "a1670ddd-0051-4956-dd8e-d05f982e3896"
      },
      "execution_count": 18,
      "outputs": [
        {
          "output_type": "execute_result",
          "data": {
            "text/plain": [
              "Index(['age', 'sex', 'chest', 'resting_blood_pressure', 'serum_cholestoral',\n",
              "       'maximum_heart_rate_achieved', 'oldpeak', 'slope', 'class', 'thal_norm',\n",
              "       'thal_fix_def', 'thal_rev_def', 'number_of_major_vessels_1',\n",
              "       'number_of_major_vessels_2', 'number_of_major_vessels_3',\n",
              "       'exercise_induced_angina_1', 'resting_electrocardiographic_results_1',\n",
              "       'resting_electrocardiographic_results_2', 'fasting_blood_sugar_1'],\n",
              "      dtype='object')"
            ]
          },
          "metadata": {},
          "execution_count": 18
        }
      ]
    },
    {
      "cell_type": "code",
      "source": [
        "data.shape"
      ],
      "metadata": {
        "execution": {
          "iopub.status.busy": "2023-05-05T06:49:13.404114Z",
          "iopub.execute_input": "2023-05-05T06:49:13.405570Z",
          "iopub.status.idle": "2023-05-05T06:49:13.413045Z",
          "shell.execute_reply.started": "2023-05-05T06:49:13.405532Z",
          "shell.execute_reply": "2023-05-05T06:49:13.411923Z"
        },
        "trusted": true,
        "colab": {
          "base_uri": "https://localhost:8080/"
        },
        "id": "Eml-hO4rt595",
        "outputId": "8d0a5f5b-4a2f-4e55-8185-d281d0d73f0c"
      },
      "execution_count": 68,
      "outputs": [
        {
          "output_type": "execute_result",
          "data": {
            "text/plain": [
              "(600000, 17)"
            ]
          },
          "metadata": {},
          "execution_count": 68
        }
      ]
    },
    {
      "cell_type": "code",
      "source": [
        "col = data.pop('class')\n",
        "data.insert(18,'class', col)"
      ],
      "metadata": {
        "execution": {
          "iopub.status.busy": "2023-05-05T06:49:13.414837Z",
          "iopub.execute_input": "2023-05-05T06:49:13.415995Z",
          "iopub.status.idle": "2023-05-05T06:49:13.424968Z",
          "shell.execute_reply.started": "2023-05-05T06:49:13.415960Z",
          "shell.execute_reply": "2023-05-05T06:49:13.423754Z"
        },
        "trusted": true,
        "id": "T-p3sl9Ut596"
      },
      "execution_count": 20,
      "outputs": []
    },
    {
      "cell_type": "code",
      "source": [
        "data.head()"
      ],
      "metadata": {
        "execution": {
          "iopub.status.busy": "2023-05-05T06:49:13.426715Z",
          "iopub.execute_input": "2023-05-05T06:49:13.427530Z",
          "iopub.status.idle": "2023-05-05T06:49:13.451449Z",
          "shell.execute_reply.started": "2023-05-05T06:49:13.427494Z",
          "shell.execute_reply": "2023-05-05T06:49:13.450512Z"
        },
        "trusted": true,
        "colab": {
          "base_uri": "https://localhost:8080/",
          "height": 270
        },
        "id": "1F5K4CYbt596",
        "outputId": "10e91864-7861-4c43-c379-4471e40f8704"
      },
      "execution_count": 21,
      "outputs": [
        {
          "output_type": "execute_result",
          "data": {
            "text/plain": [
              "    age  sex  chest  resting_blood_pressure  serum_cholestoral  \\\n",
              "0  49.0    0    4.0              162.996167         181.108682   \n",
              "1  54.0    1    2.0              130.233730         276.474630   \n",
              "2  50.0    1    4.0              146.999012         223.300517   \n",
              "3  59.0    1    4.0              112.369143         187.245501   \n",
              "4  51.0    1    2.0              138.032047         238.482868   \n",
              "\n",
              "   maximum_heart_rate_achieved   oldpeak  slope  thal_norm  thal_fix_def  \\\n",
              "0                   148.227858  0.944547      2          1             0   \n",
              "1                   152.917139  0.119070      2          1             0   \n",
              "2                   102.352090  1.616747      2          0             0   \n",
              "3                   158.164750  0.000000      1          0             0   \n",
              "4                   172.540828  1.150464      1          1             0   \n",
              "\n",
              "   thal_rev_def  number_of_major_vessels_1  number_of_major_vessels_2  \\\n",
              "0             0                          0                          0   \n",
              "1             0                          0                          0   \n",
              "2             1                          0                          1   \n",
              "3             1                          1                          0   \n",
              "4             0                          1                          0   \n",
              "\n",
              "   number_of_major_vessels_3  exercise_induced_angina_1  \\\n",
              "0                          0                          1   \n",
              "1                          0                          0   \n",
              "2                          0                          1   \n",
              "3                          0                          1   \n",
              "4                          0                          0   \n",
              "\n",
              "   resting_electrocardiographic_results_1  \\\n",
              "0                                       0   \n",
              "1                                       0   \n",
              "2                                       0   \n",
              "3                                       0   \n",
              "4                                       0   \n",
              "\n",
              "   resting_electrocardiographic_results_2  fasting_blood_sugar_1  class  \n",
              "0                                       0                      0      1  \n",
              "1                                       1                      0      0  \n",
              "2                                       1                      1      1  \n",
              "3                                       0                      0      1  \n",
              "4                                       0                      0      0  "
            ],
            "text/html": [
              "\n",
              "  <div id=\"df-708d8b75-ebb7-4f24-89f0-a6f6d566a115\">\n",
              "    <div class=\"colab-df-container\">\n",
              "      <div>\n",
              "<style scoped>\n",
              "    .dataframe tbody tr th:only-of-type {\n",
              "        vertical-align: middle;\n",
              "    }\n",
              "\n",
              "    .dataframe tbody tr th {\n",
              "        vertical-align: top;\n",
              "    }\n",
              "\n",
              "    .dataframe thead th {\n",
              "        text-align: right;\n",
              "    }\n",
              "</style>\n",
              "<table border=\"1\" class=\"dataframe\">\n",
              "  <thead>\n",
              "    <tr style=\"text-align: right;\">\n",
              "      <th></th>\n",
              "      <th>age</th>\n",
              "      <th>sex</th>\n",
              "      <th>chest</th>\n",
              "      <th>resting_blood_pressure</th>\n",
              "      <th>serum_cholestoral</th>\n",
              "      <th>maximum_heart_rate_achieved</th>\n",
              "      <th>oldpeak</th>\n",
              "      <th>slope</th>\n",
              "      <th>thal_norm</th>\n",
              "      <th>thal_fix_def</th>\n",
              "      <th>thal_rev_def</th>\n",
              "      <th>number_of_major_vessels_1</th>\n",
              "      <th>number_of_major_vessels_2</th>\n",
              "      <th>number_of_major_vessels_3</th>\n",
              "      <th>exercise_induced_angina_1</th>\n",
              "      <th>resting_electrocardiographic_results_1</th>\n",
              "      <th>resting_electrocardiographic_results_2</th>\n",
              "      <th>fasting_blood_sugar_1</th>\n",
              "      <th>class</th>\n",
              "    </tr>\n",
              "  </thead>\n",
              "  <tbody>\n",
              "    <tr>\n",
              "      <th>0</th>\n",
              "      <td>49.0</td>\n",
              "      <td>0</td>\n",
              "      <td>4.0</td>\n",
              "      <td>162.996167</td>\n",
              "      <td>181.108682</td>\n",
              "      <td>148.227858</td>\n",
              "      <td>0.944547</td>\n",
              "      <td>2</td>\n",
              "      <td>1</td>\n",
              "      <td>0</td>\n",
              "      <td>0</td>\n",
              "      <td>0</td>\n",
              "      <td>0</td>\n",
              "      <td>0</td>\n",
              "      <td>1</td>\n",
              "      <td>0</td>\n",
              "      <td>0</td>\n",
              "      <td>0</td>\n",
              "      <td>1</td>\n",
              "    </tr>\n",
              "    <tr>\n",
              "      <th>1</th>\n",
              "      <td>54.0</td>\n",
              "      <td>1</td>\n",
              "      <td>2.0</td>\n",
              "      <td>130.233730</td>\n",
              "      <td>276.474630</td>\n",
              "      <td>152.917139</td>\n",
              "      <td>0.119070</td>\n",
              "      <td>2</td>\n",
              "      <td>1</td>\n",
              "      <td>0</td>\n",
              "      <td>0</td>\n",
              "      <td>0</td>\n",
              "      <td>0</td>\n",
              "      <td>0</td>\n",
              "      <td>0</td>\n",
              "      <td>0</td>\n",
              "      <td>1</td>\n",
              "      <td>0</td>\n",
              "      <td>0</td>\n",
              "    </tr>\n",
              "    <tr>\n",
              "      <th>2</th>\n",
              "      <td>50.0</td>\n",
              "      <td>1</td>\n",
              "      <td>4.0</td>\n",
              "      <td>146.999012</td>\n",
              "      <td>223.300517</td>\n",
              "      <td>102.352090</td>\n",
              "      <td>1.616747</td>\n",
              "      <td>2</td>\n",
              "      <td>0</td>\n",
              "      <td>0</td>\n",
              "      <td>1</td>\n",
              "      <td>0</td>\n",
              "      <td>1</td>\n",
              "      <td>0</td>\n",
              "      <td>1</td>\n",
              "      <td>0</td>\n",
              "      <td>1</td>\n",
              "      <td>1</td>\n",
              "      <td>1</td>\n",
              "    </tr>\n",
              "    <tr>\n",
              "      <th>3</th>\n",
              "      <td>59.0</td>\n",
              "      <td>1</td>\n",
              "      <td>4.0</td>\n",
              "      <td>112.369143</td>\n",
              "      <td>187.245501</td>\n",
              "      <td>158.164750</td>\n",
              "      <td>0.000000</td>\n",
              "      <td>1</td>\n",
              "      <td>0</td>\n",
              "      <td>0</td>\n",
              "      <td>1</td>\n",
              "      <td>1</td>\n",
              "      <td>0</td>\n",
              "      <td>0</td>\n",
              "      <td>1</td>\n",
              "      <td>0</td>\n",
              "      <td>0</td>\n",
              "      <td>0</td>\n",
              "      <td>1</td>\n",
              "    </tr>\n",
              "    <tr>\n",
              "      <th>4</th>\n",
              "      <td>51.0</td>\n",
              "      <td>1</td>\n",
              "      <td>2.0</td>\n",
              "      <td>138.032047</td>\n",
              "      <td>238.482868</td>\n",
              "      <td>172.540828</td>\n",
              "      <td>1.150464</td>\n",
              "      <td>1</td>\n",
              "      <td>1</td>\n",
              "      <td>0</td>\n",
              "      <td>0</td>\n",
              "      <td>1</td>\n",
              "      <td>0</td>\n",
              "      <td>0</td>\n",
              "      <td>0</td>\n",
              "      <td>0</td>\n",
              "      <td>0</td>\n",
              "      <td>0</td>\n",
              "      <td>0</td>\n",
              "    </tr>\n",
              "  </tbody>\n",
              "</table>\n",
              "</div>\n",
              "      <button class=\"colab-df-convert\" onclick=\"convertToInteractive('df-708d8b75-ebb7-4f24-89f0-a6f6d566a115')\"\n",
              "              title=\"Convert this dataframe to an interactive table.\"\n",
              "              style=\"display:none;\">\n",
              "        \n",
              "  <svg xmlns=\"http://www.w3.org/2000/svg\" height=\"24px\"viewBox=\"0 0 24 24\"\n",
              "       width=\"24px\">\n",
              "    <path d=\"M0 0h24v24H0V0z\" fill=\"none\"/>\n",
              "    <path d=\"M18.56 5.44l.94 2.06.94-2.06 2.06-.94-2.06-.94-.94-2.06-.94 2.06-2.06.94zm-11 1L8.5 8.5l.94-2.06 2.06-.94-2.06-.94L8.5 2.5l-.94 2.06-2.06.94zm10 10l.94 2.06.94-2.06 2.06-.94-2.06-.94-.94-2.06-.94 2.06-2.06.94z\"/><path d=\"M17.41 7.96l-1.37-1.37c-.4-.4-.92-.59-1.43-.59-.52 0-1.04.2-1.43.59L10.3 9.45l-7.72 7.72c-.78.78-.78 2.05 0 2.83L4 21.41c.39.39.9.59 1.41.59.51 0 1.02-.2 1.41-.59l7.78-7.78 2.81-2.81c.8-.78.8-2.07 0-2.86zM5.41 20L4 18.59l7.72-7.72 1.47 1.35L5.41 20z\"/>\n",
              "  </svg>\n",
              "      </button>\n",
              "      \n",
              "  <style>\n",
              "    .colab-df-container {\n",
              "      display:flex;\n",
              "      flex-wrap:wrap;\n",
              "      gap: 12px;\n",
              "    }\n",
              "\n",
              "    .colab-df-convert {\n",
              "      background-color: #E8F0FE;\n",
              "      border: none;\n",
              "      border-radius: 50%;\n",
              "      cursor: pointer;\n",
              "      display: none;\n",
              "      fill: #1967D2;\n",
              "      height: 32px;\n",
              "      padding: 0 0 0 0;\n",
              "      width: 32px;\n",
              "    }\n",
              "\n",
              "    .colab-df-convert:hover {\n",
              "      background-color: #E2EBFA;\n",
              "      box-shadow: 0px 1px 2px rgba(60, 64, 67, 0.3), 0px 1px 3px 1px rgba(60, 64, 67, 0.15);\n",
              "      fill: #174EA6;\n",
              "    }\n",
              "\n",
              "    [theme=dark] .colab-df-convert {\n",
              "      background-color: #3B4455;\n",
              "      fill: #D2E3FC;\n",
              "    }\n",
              "\n",
              "    [theme=dark] .colab-df-convert:hover {\n",
              "      background-color: #434B5C;\n",
              "      box-shadow: 0px 1px 3px 1px rgba(0, 0, 0, 0.15);\n",
              "      filter: drop-shadow(0px 1px 2px rgba(0, 0, 0, 0.3));\n",
              "      fill: #FFFFFF;\n",
              "    }\n",
              "  </style>\n",
              "\n",
              "      <script>\n",
              "        const buttonEl =\n",
              "          document.querySelector('#df-708d8b75-ebb7-4f24-89f0-a6f6d566a115 button.colab-df-convert');\n",
              "        buttonEl.style.display =\n",
              "          google.colab.kernel.accessAllowed ? 'block' : 'none';\n",
              "\n",
              "        async function convertToInteractive(key) {\n",
              "          const element = document.querySelector('#df-708d8b75-ebb7-4f24-89f0-a6f6d566a115');\n",
              "          const dataTable =\n",
              "            await google.colab.kernel.invokeFunction('convertToInteractive',\n",
              "                                                     [key], {});\n",
              "          if (!dataTable) return;\n",
              "\n",
              "          const docLinkHtml = 'Like what you see? Visit the ' +\n",
              "            '<a target=\"_blank\" href=https://colab.research.google.com/notebooks/data_table.ipynb>data table notebook</a>'\n",
              "            + ' to learn more about interactive tables.';\n",
              "          element.innerHTML = '';\n",
              "          dataTable['output_type'] = 'display_data';\n",
              "          await google.colab.output.renderOutput(dataTable, element);\n",
              "          const docLink = document.createElement('div');\n",
              "          docLink.innerHTML = docLinkHtml;\n",
              "          element.appendChild(docLink);\n",
              "        }\n",
              "      </script>\n",
              "    </div>\n",
              "  </div>\n",
              "  "
            ]
          },
          "metadata": {},
          "execution_count": 21
        }
      ]
    },
    {
      "cell_type": "code",
      "source": [
        "data.info()"
      ],
      "metadata": {
        "execution": {
          "iopub.status.busy": "2023-05-05T06:49:13.452775Z",
          "iopub.execute_input": "2023-05-05T06:49:13.453311Z",
          "iopub.status.idle": "2023-05-05T06:49:13.479892Z",
          "shell.execute_reply.started": "2023-05-05T06:49:13.453264Z",
          "shell.execute_reply": "2023-05-05T06:49:13.478949Z"
        },
        "trusted": true,
        "colab": {
          "base_uri": "https://localhost:8080/"
        },
        "id": "cdOtjRWtt597",
        "outputId": "f14515c7-c90a-4dc4-ef23-2c04a192706b"
      },
      "execution_count": 22,
      "outputs": [
        {
          "output_type": "stream",
          "name": "stdout",
          "text": [
            "<class 'pandas.core.frame.DataFrame'>\n",
            "RangeIndex: 600000 entries, 0 to 599999\n",
            "Data columns (total 19 columns):\n",
            " #   Column                                  Non-Null Count   Dtype  \n",
            "---  ------                                  --------------   -----  \n",
            " 0   age                                     600000 non-null  float64\n",
            " 1   sex                                     600000 non-null  int64  \n",
            " 2   chest                                   600000 non-null  float64\n",
            " 3   resting_blood_pressure                  600000 non-null  float64\n",
            " 4   serum_cholestoral                       600000 non-null  float64\n",
            " 5   maximum_heart_rate_achieved             600000 non-null  float64\n",
            " 6   oldpeak                                 600000 non-null  float64\n",
            " 7   slope                                   600000 non-null  int64  \n",
            " 8   thal_norm                               600000 non-null  int64  \n",
            " 9   thal_fix_def                            600000 non-null  int64  \n",
            " 10  thal_rev_def                            600000 non-null  int64  \n",
            " 11  number_of_major_vessels_1               600000 non-null  uint8  \n",
            " 12  number_of_major_vessels_2               600000 non-null  uint8  \n",
            " 13  number_of_major_vessels_3               600000 non-null  uint8  \n",
            " 14  exercise_induced_angina_1               600000 non-null  uint8  \n",
            " 15  resting_electrocardiographic_results_1  600000 non-null  uint8  \n",
            " 16  resting_electrocardiographic_results_2  600000 non-null  uint8  \n",
            " 17  fasting_blood_sugar_1                   600000 non-null  uint8  \n",
            " 18  class                                   600000 non-null  int64  \n",
            "dtypes: float64(6), int64(6), uint8(7)\n",
            "memory usage: 58.9 MB\n"
          ]
        }
      ]
    },
    {
      "cell_type": "markdown",
      "source": [
        "<h1 style=\"color:green\"><center>EDA</center></h1>"
      ],
      "metadata": {
        "id": "dhgFe_9Kt597"
      }
    },
    {
      "cell_type": "code",
      "source": [
        "import matplotlib.pyplot as plt\n",
        "import seaborn as sns\n",
        "\n",
        "corr = data.corr()\n",
        "plt.subplots(figsize=(15,10))\n",
        "sns.heatmap(corr, xticklabels=corr.columns, yticklabels=corr.columns, annot=True, cmap=sns.diverging_palette(220, 20, as_cmap=True))\n",
        "sns.heatmap(corr, xticklabels=corr.columns,\n",
        "            yticklabels=corr.columns, \n",
        "            annot=True,\n",
        "            cmap=sns.diverging_palette(220, 20, as_cmap=True))"
      ],
      "metadata": {
        "execution": {
          "iopub.status.busy": "2023-05-05T06:49:13.481300Z",
          "iopub.execute_input": "2023-05-05T06:49:13.482026Z",
          "iopub.status.idle": "2023-05-05T06:49:16.934639Z",
          "shell.execute_reply.started": "2023-05-05T06:49:13.481993Z",
          "shell.execute_reply": "2023-05-05T06:49:16.933797Z"
        },
        "trusted": true,
        "colab": {
          "base_uri": "https://localhost:8080/",
          "height": 525
        },
        "id": "xzL4YBnBt597",
        "outputId": "3a6da700-ed6f-4637-ce2b-9b1908cbfdea"
      },
      "execution_count": 23,
      "outputs": [
        {
          "output_type": "execute_result",
          "data": {
            "text/plain": [
              "<Axes: >"
            ]
          },
          "metadata": {},
          "execution_count": 23
        },
        {
          "output_type": "display_data",
          "data": {
            "text/plain": [
              "<Figure size 1500x1000 with 3 Axes>"
            ],
            "image/png": "[encoded data removed]"
          },
          "metadata": {}
        }
      ]
    },
    {
      "cell_type": "markdown",
      "source": [
        "<p style=\"font-weight: bold\">we see a negative correlation between exercise induced angina (exang) & our predictor. This makes sense because when you excercise, your heart requires more blood, but narrowed arteries slow down blood flow.</p>"
      ],
      "metadata": {
        "id": "887lHYLVt598"
      }
    },
    {
      "cell_type": "code",
      "source": [
        "data.corr()[\"class\"].abs().sort_values(ascending=False)[1:]"
      ],
      "metadata": {
        "execution": {
          "iopub.status.busy": "2023-05-05T06:49:16.935652Z",
          "iopub.execute_input": "2023-05-05T06:49:16.935992Z",
          "iopub.status.idle": "2023-05-05T06:49:17.555400Z",
          "shell.execute_reply.started": "2023-05-05T06:49:16.935964Z",
          "shell.execute_reply": "2023-05-05T06:49:17.554334Z"
        },
        "trusted": true,
        "colab": {
          "base_uri": "https://localhost:8080/"
        },
        "id": "kEdMn7LQt598",
        "outputId": "c87da1da-6e28-4c7a-8df9-86ecc1b623f4"
      },
      "execution_count": 24,
      "outputs": [
        {
          "output_type": "execute_result",
          "data": {
            "text/plain": [
              "thal_norm                                 0.509960\n",
              "thal_rev_def                              0.492488\n",
              "chest                                     0.414930\n",
              "exercise_induced_angina_1                 0.411014\n",
              "oldpeak                                   0.392788\n",
              "maximum_heart_rate_achieved               0.368760\n",
              "slope                                     0.316084\n",
              "sex                                       0.292998\n",
              "number_of_major_vessels_2                 0.251207\n",
              "age                                       0.221936\n",
              "number_of_major_vessels_1                 0.220461\n",
              "number_of_major_vessels_3                 0.216604\n",
              "resting_electrocardiographic_results_2    0.178000\n",
              "serum_cholestoral                         0.117765\n",
              "resting_blood_pressure                    0.115044\n",
              "thal_fix_def                              0.058675\n",
              "fasting_blood_sugar_1                     0.015911\n",
              "resting_electrocardiographic_results_1    0.010095\n",
              "Name: class, dtype: float64"
            ]
          },
          "metadata": {},
          "execution_count": 24
        }
      ]
    },
    {
      "cell_type": "markdown",
      "source": [
        "<p style= \"font-weight: bold\"> from the above correlations we can consider only the features which have a correlation graeter than 0.2 with the target and see what will happen</p>"
      ],
      "metadata": {
        "id": "nvSQHAQOt599"
      }
    },
    {
      "cell_type": "code",
      "source": [
        "data = data.drop([ \n",
        "                  \"resting_blood_pressure\", \"thal_fix_def\"], axis=1)"
      ],
      "metadata": {
        "execution": {
          "iopub.status.busy": "2023-05-05T06:49:17.557307Z",
          "iopub.execute_input": "2023-05-05T06:49:17.557747Z",
          "iopub.status.idle": "2023-05-05T06:49:17.599201Z",
          "shell.execute_reply.started": "2023-05-05T06:49:17.557707Z",
          "shell.execute_reply": "2023-05-05T06:49:17.597815Z"
        },
        "trusted": true,
        "id": "8lR8-lqut599"
      },
      "execution_count": 25,
      "outputs": []
    },
    {
      "cell_type": "code",
      "source": [
        "test_data = test_data.drop([ \n",
        "                  \"resting_blood_pressure\", \"thal_fix_def\"], axis=1)"
      ],
      "metadata": {
        "id": "CZP5b3I9LCuz"
      },
      "execution_count": 105,
      "outputs": []
    },
    {
      "cell_type": "code",
      "source": [
        "data.head()"
      ],
      "metadata": {
        "execution": {
          "iopub.status.busy": "2023-05-05T06:49:17.600726Z",
          "iopub.execute_input": "2023-05-05T06:49:17.601282Z",
          "iopub.status.idle": "2023-05-05T06:49:17.624162Z",
          "shell.execute_reply.started": "2023-05-05T06:49:17.601249Z",
          "shell.execute_reply": "2023-05-05T06:49:17.623070Z"
        },
        "trusted": true,
        "colab": {
          "base_uri": "https://localhost:8080/",
          "height": 270
        },
        "id": "-Mh-vndet599",
        "outputId": "6751d116-295a-4eb2-c2ef-2f66fcffb382"
      },
      "execution_count": 26,
      "outputs": [
        {
          "output_type": "execute_result",
          "data": {
            "text/plain": [
              "    age  sex  chest  serum_cholestoral  maximum_heart_rate_achieved   oldpeak  \\\n",
              "0  49.0    0    4.0         181.108682                   148.227858  0.944547   \n",
              "1  54.0    1    2.0         276.474630                   152.917139  0.119070   \n",
              "2  50.0    1    4.0         223.300517                   102.352090  1.616747   \n",
              "3  59.0    1    4.0         187.245501                   158.164750  0.000000   \n",
              "4  51.0    1    2.0         238.482868                   172.540828  1.150464   \n",
              "\n",
              "   slope  thal_norm  thal_rev_def  number_of_major_vessels_1  \\\n",
              "0      2          1             0                          0   \n",
              "1      2          1             0                          0   \n",
              "2      2          0             1                          0   \n",
              "3      1          0             1                          1   \n",
              "4      1          1             0                          1   \n",
              "\n",
              "   number_of_major_vessels_2  number_of_major_vessels_3  \\\n",
              "0                          0                          0   \n",
              "1                          0                          0   \n",
              "2                          1                          0   \n",
              "3                          0                          0   \n",
              "4                          0                          0   \n",
              "\n",
              "   exercise_induced_angina_1  resting_electrocardiographic_results_1  \\\n",
              "0                          1                                       0   \n",
              "1                          0                                       0   \n",
              "2                          1                                       0   \n",
              "3                          1                                       0   \n",
              "4                          0                                       0   \n",
              "\n",
              "   resting_electrocardiographic_results_2  fasting_blood_sugar_1  class  \n",
              "0                                       0                      0      1  \n",
              "1                                       1                      0      0  \n",
              "2                                       1                      1      1  \n",
              "3                                       0                      0      1  \n",
              "4                                       0                      0      0  "
            ],
            "text/html": [
              "\n",
              "  <div id=\"df-85833c41-4d4c-44d9-ba44-cc27b3cfc41f\">\n",
              "    <div class=\"colab-df-container\">\n",
              "      <div>\n",
              "<style scoped>\n",
              "    .dataframe tbody tr th:only-of-type {\n",
              "        vertical-align: middle;\n",
              "    }\n",
              "\n",
              "    .dataframe tbody tr th {\n",
              "        vertical-align: top;\n",
              "    }\n",
              "\n",
              "    .dataframe thead th {\n",
              "        text-align: right;\n",
              "    }\n",
              "</style>\n",
              "<table border=\"1\" class=\"dataframe\">\n",
              "  <thead>\n",
              "    <tr style=\"text-align: right;\">\n",
              "      <th></th>\n",
              "      <th>age</th>\n",
              "      <th>sex</th>\n",
              "      <th>chest</th>\n",
              "      <th>serum_cholestoral</th>\n",
              "      <th>maximum_heart_rate_achieved</th>\n",
              "      <th>oldpeak</th>\n",
              "      <th>slope</th>\n",
              "      <th>thal_norm</th>\n",
              "      <th>thal_rev_def</th>\n",
              "      <th>number_of_major_vessels_1</th>\n",
              "      <th>number_of_major_vessels_2</th>\n",
              "      <th>number_of_major_vessels_3</th>\n",
              "      <th>exercise_induced_angina_1</th>\n",
              "      <th>resting_electrocardiographic_results_1</th>\n",
              "      <th>resting_electrocardiographic_results_2</th>\n",
              "      <th>fasting_blood_sugar_1</th>\n",
              "      <th>class</th>\n",
              "    </tr>\n",
              "  </thead>\n",
              "  <tbody>\n",
              "    <tr>\n",
              "      <th>0</th>\n",
              "      <td>49.0</td>\n",
              "      <td>0</td>\n",
              "      <td>4.0</td>\n",
              "      <td>181.108682</td>\n",
              "      <td>148.227858</td>\n",
              "      <td>0.944547</td>\n",
              "      <td>2</td>\n",
              "      <td>1</td>\n",
              "      <td>0</td>\n",
              "      <td>0</td>\n",
              "      <td>0</td>\n",
              "      <td>0</td>\n",
              "      <td>1</td>\n",
              "      <td>0</td>\n",
              "      <td>0</td>\n",
              "      <td>0</td>\n",
              "      <td>1</td>\n",
              "    </tr>\n",
              "    <tr>\n",
              "      <th>1</th>\n",
              "      <td>54.0</td>\n",
              "      <td>1</td>\n",
              "      <td>2.0</td>\n",
              "      <td>276.474630</td>\n",
              "      <td>152.917139</td>\n",
              "      <td>0.119070</td>\n",
              "      <td>2</td>\n",
              "      <td>1</td>\n",
              "      <td>0</td>\n",
              "      <td>0</td>\n",
              "      <td>0</td>\n",
              "      <td>0</td>\n",
              "      <td>0</td>\n",
              "      <td>0</td>\n",
              "      <td>1</td>\n",
              "      <td>0</td>\n",
              "      <td>0</td>\n",
              "    </tr>\n",
              "    <tr>\n",
              "      <th>2</th>\n",
              "      <td>50.0</td>\n",
              "      <td>1</td>\n",
              "      <td>4.0</td>\n",
              "      <td>223.300517</td>\n",
              "      <td>102.352090</td>\n",
              "      <td>1.616747</td>\n",
              "      <td>2</td>\n",
              "      <td>0</td>\n",
              "      <td>1</td>\n",
              "      <td>0</td>\n",
              "      <td>1</td>\n",
              "      <td>0</td>\n",
              "      <td>1</td>\n",
              "      <td>0</td>\n",
              "      <td>1</td>\n",
              "      <td>1</td>\n",
              "      <td>1</td>\n",
              "    </tr>\n",
              "    <tr>\n",
              "      <th>3</th>\n",
              "      <td>59.0</td>\n",
              "      <td>1</td>\n",
              "      <td>4.0</td>\n",
              "      <td>187.245501</td>\n",
              "      <td>158.164750</td>\n",
              "      <td>0.000000</td>\n",
              "      <td>1</td>\n",
              "      <td>0</td>\n",
              "      <td>1</td>\n",
              "      <td>1</td>\n",
              "      <td>0</td>\n",
              "      <td>0</td>\n",
              "      <td>1</td>\n",
              "      <td>0</td>\n",
              "      <td>0</td>\n",
              "      <td>0</td>\n",
              "      <td>1</td>\n",
              "    </tr>\n",
              "    <tr>\n",
              "      <th>4</th>\n",
              "      <td>51.0</td>\n",
              "      <td>1</td>\n",
              "      <td>2.0</td>\n",
              "      <td>238.482868</td>\n",
              "      <td>172.540828</td>\n",
              "      <td>1.150464</td>\n",
              "      <td>1</td>\n",
              "      <td>1</td>\n",
              "      <td>0</td>\n",
              "      <td>1</td>\n",
              "      <td>0</td>\n",
              "      <td>0</td>\n",
              "      <td>0</td>\n",
              "      <td>0</td>\n",
              "      <td>0</td>\n",
              "      <td>0</td>\n",
              "      <td>0</td>\n",
              "    </tr>\n",
              "  </tbody>\n",
              "</table>\n",
              "</div>\n",
              "      <button class=\"colab-df-convert\" onclick=\"convertToInteractive('df-85833c41-4d4c-44d9-ba44-cc27b3cfc41f')\"\n",
              "              title=\"Convert this dataframe to an interactive table.\"\n",
              "              style=\"display:none;\">\n",
              "        \n",
              "  <svg xmlns=\"http://www.w3.org/2000/svg\" height=\"24px\"viewBox=\"0 0 24 24\"\n",
              "       width=\"24px\">\n",
              "    <path d=\"M0 0h24v24H0V0z\" fill=\"none\"/>\n",
              "    <path d=\"M18.56 5.44l.94 2.06.94-2.06 2.06-.94-2.06-.94-.94-2.06-.94 2.06-2.06.94zm-11 1L8.5 8.5l.94-2.06 2.06-.94-2.06-.94L8.5 2.5l-.94 2.06-2.06.94zm10 10l.94 2.06.94-2.06 2.06-.94-2.06-.94-.94-2.06-.94 2.06-2.06.94z\"/><path d=\"M17.41 7.96l-1.37-1.37c-.4-.4-.92-.59-1.43-.59-.52 0-1.04.2-1.43.59L10.3 9.45l-7.72 7.72c-.78.78-.78 2.05 0 2.83L4 21.41c.39.39.9.59 1.41.59.51 0 1.02-.2 1.41-.59l7.78-7.78 2.81-2.81c.8-.78.8-2.07 0-2.86zM5.41 20L4 18.59l7.72-7.72 1.47 1.35L5.41 20z\"/>\n",
              "  </svg>\n",
              "      </button>\n",
              "      \n",
              "  <style>\n",
              "    .colab-df-container {\n",
              "      display:flex;\n",
              "      flex-wrap:wrap;\n",
              "      gap: 12px;\n",
              "    }\n",
              "\n",
              "    .colab-df-convert {\n",
              "      background-color: #E8F0FE;\n",
              "      border: none;\n",
              "      border-radius: 50%;\n",
              "      cursor: pointer;\n",
              "      display: none;\n",
              "      fill: #1967D2;\n",
              "      height: 32px;\n",
              "      padding: 0 0 0 0;\n",
              "      width: 32px;\n",
              "    }\n",
              "\n",
              "    .colab-df-convert:hover {\n",
              "      background-color: #E2EBFA;\n",
              "      box-shadow: 0px 1px 2px rgba(60, 64, 67, 0.3), 0px 1px 3px 1px rgba(60, 64, 67, 0.15);\n",
              "      fill: #174EA6;\n",
              "    }\n",
              "\n",
              "    [theme=dark] .colab-df-convert {\n",
              "      background-color: #3B4455;\n",
              "      fill: #D2E3FC;\n",
              "    }\n",
              "\n",
              "    [theme=dark] .colab-df-convert:hover {\n",
              "      background-color: #434B5C;\n",
              "      box-shadow: 0px 1px 3px 1px rgba(0, 0, 0, 0.15);\n",
              "      filter: drop-shadow(0px 1px 2px rgba(0, 0, 0, 0.3));\n",
              "      fill: #FFFFFF;\n",
              "    }\n",
              "  </style>\n",
              "\n",
              "      <script>\n",
              "        const buttonEl =\n",
              "          document.querySelector('#df-85833c41-4d4c-44d9-ba44-cc27b3cfc41f button.colab-df-convert');\n",
              "        buttonEl.style.display =\n",
              "          google.colab.kernel.accessAllowed ? 'block' : 'none';\n",
              "\n",
              "        async function convertToInteractive(key) {\n",
              "          const element = document.querySelector('#df-85833c41-4d4c-44d9-ba44-cc27b3cfc41f');\n",
              "          const dataTable =\n",
              "            await google.colab.kernel.invokeFunction('convertToInteractive',\n",
              "                                                     [key], {});\n",
              "          if (!dataTable) return;\n",
              "\n",
              "          const docLinkHtml = 'Like what you see? Visit the ' +\n",
              "            '<a target=\"_blank\" href=https://colab.research.google.com/notebooks/data_table.ipynb>data table notebook</a>'\n",
              "            + ' to learn more about interactive tables.';\n",
              "          element.innerHTML = '';\n",
              "          dataTable['output_type'] = 'display_data';\n",
              "          await google.colab.output.renderOutput(dataTable, element);\n",
              "          const docLink = document.createElement('div');\n",
              "          docLink.innerHTML = docLinkHtml;\n",
              "          element.appendChild(docLink);\n",
              "        }\n",
              "      </script>\n",
              "    </div>\n",
              "  </div>\n",
              "  "
            ]
          },
          "metadata": {},
          "execution_count": 26
        }
      ]
    },
    {
      "cell_type": "code",
      "source": [
        "data.info()"
      ],
      "metadata": {
        "execution": {
          "iopub.status.busy": "2023-05-05T06:49:17.626102Z",
          "iopub.execute_input": "2023-05-05T06:49:17.626628Z",
          "iopub.status.idle": "2023-05-05T06:49:17.651630Z",
          "shell.execute_reply.started": "2023-05-05T06:49:17.626578Z",
          "shell.execute_reply": "2023-05-05T06:49:17.650578Z"
        },
        "trusted": true,
        "colab": {
          "base_uri": "https://localhost:8080/"
        },
        "id": "HO7eIN8at59-",
        "outputId": "9661bd74-fe32-4687-b623-c72e796beb1d"
      },
      "execution_count": 27,
      "outputs": [
        {
          "output_type": "stream",
          "name": "stdout",
          "text": [
            "<class 'pandas.core.frame.DataFrame'>\n",
            "RangeIndex: 600000 entries, 0 to 599999\n",
            "Data columns (total 17 columns):\n",
            " #   Column                                  Non-Null Count   Dtype  \n",
            "---  ------                                  --------------   -----  \n",
            " 0   age                                     600000 non-null  float64\n",
            " 1   sex                                     600000 non-null  int64  \n",
            " 2   chest                                   600000 non-null  float64\n",
            " 3   serum_cholestoral                       600000 non-null  float64\n",
            " 4   maximum_heart_rate_achieved             600000 non-null  float64\n",
            " 5   oldpeak                                 600000 non-null  float64\n",
            " 6   slope                                   600000 non-null  int64  \n",
            " 7   thal_norm                               600000 non-null  int64  \n",
            " 8   thal_rev_def                            600000 non-null  int64  \n",
            " 9   number_of_major_vessels_1               600000 non-null  uint8  \n",
            " 10  number_of_major_vessels_2               600000 non-null  uint8  \n",
            " 11  number_of_major_vessels_3               600000 non-null  uint8  \n",
            " 12  exercise_induced_angina_1               600000 non-null  uint8  \n",
            " 13  resting_electrocardiographic_results_1  600000 non-null  uint8  \n",
            " 14  resting_electrocardiographic_results_2  600000 non-null  uint8  \n",
            " 15  fasting_blood_sugar_1                   600000 non-null  uint8  \n",
            " 16  class                                   600000 non-null  int64  \n",
            "dtypes: float64(5), int64(5), uint8(7)\n",
            "memory usage: 49.8 MB\n"
          ]
        }
      ]
    },
    {
      "cell_type": "code",
      "source": [
        "sns.catplot(x=\"class\", y=\"oldpeak\", hue=\"slope\", kind=\"bar\", data=data);\n",
        "plt.title('ST depression (induced by exercise relative to rest) vs. Heart Disease',size=25)\n",
        "plt.xlabel('Heart Disease',size=20)\n",
        "plt.ylabel('ST depression',size=20)"
      ],
      "metadata": {
        "execution": {
          "iopub.status.busy": "2023-05-05T06:49:17.653021Z",
          "iopub.execute_input": "2023-05-05T06:49:17.653697Z",
          "iopub.status.idle": "2023-05-05T06:49:24.773521Z",
          "shell.execute_reply.started": "2023-05-05T06:49:17.653664Z",
          "shell.execute_reply": "2023-05-05T06:49:24.772610Z"
        },
        "trusted": true,
        "colab": {
          "base_uri": "https://localhost:8080/",
          "height": 311
        },
        "id": "Si3th002t59-",
        "outputId": "ff4cd6cc-b8ee-4545-808a-a246ac501f93"
      },
      "execution_count": 28,
      "outputs": [
        {
          "output_type": "execute_result",
          "data": {
            "text/plain": [
              "Text(36.804208333333335, 0.5, 'ST depression')"
            ]
          },
          "metadata": {},
          "execution_count": 28
        },
        {
          "output_type": "display_data",
          "data": {
            "text/plain": [
              "<Figure size 558.875x500 with 1 Axes>"
            ],
            "image/png": "[encoded data removed]"
          },
          "metadata": {}
        }
      ]
    },
    {
      "cell_type": "markdown",
      "source": [
        "<p style=\"font-weight: bold\">The “slope” hue, refers to the peak exercise ST segment, with values: 1: downsloping , 2: flat , 3: upsloping). Both positive & negative heart disease patients exhibit equal distributions of the 3 slope categories.</p>"
      ],
      "metadata": {
        "id": "k1l-ba07t59_"
      }
    },
    {
      "cell_type": "markdown",
      "source": [
        "<hr>"
      ],
      "metadata": {
        "id": "Ugkl4zULt59_"
      }
    },
    {
      "cell_type": "markdown",
      "source": [
        "<p style=\"font-weight: bold\">Applying Min/Max scaling for maximum_heart_rate_achieved column.</p>"
      ],
      "metadata": {
        "id": "MPwat9T7t59_"
      }
    },
    {
      "cell_type": "code",
      "source": [
        "from sklearn.preprocessing import MinMaxScaler\n",
        "\n",
        "scaler = MinMaxScaler()\n",
        "data['maximum_heart_rate_achieved'] = scaler.fit_transform(data[['maximum_heart_rate_achieved']])\n",
        "data['oldpeak'] = scaler.fit_transform(data[['oldpeak']])\n",
        "data['serum_cholestoral'] = scaler.fit_transform(data[['serum_cholestoral']])\n",
        "\n",
        "\n",
        "\n",
        "\n",
        "data.head()"
      ],
      "metadata": {
        "execution": {
          "iopub.status.busy": "2023-05-05T06:49:24.774923Z",
          "iopub.execute_input": "2023-05-05T06:49:24.775371Z",
          "iopub.status.idle": "2023-05-05T06:49:24.843806Z",
          "shell.execute_reply.started": "2023-05-05T06:49:24.775334Z",
          "shell.execute_reply": "2023-05-05T06:49:24.842641Z"
        },
        "trusted": true,
        "colab": {
          "base_uri": "https://localhost:8080/",
          "height": 270
        },
        "id": "uAsZAHw8t5-A",
        "outputId": "641036c4-5c4f-4b25-9b4b-ec6476554aa8"
      },
      "execution_count": 29,
      "outputs": [
        {
          "output_type": "execute_result",
          "data": {
            "text/plain": [
              "    age  sex  chest  serum_cholestoral  maximum_heart_rate_achieved   oldpeak  \\\n",
              "0  49.0    0    4.0           0.192773                     0.588080  0.230131   \n",
              "1  54.0    1    2.0           0.414849                     0.620004  0.121661   \n",
              "2  50.0    1    4.0           0.291024                     0.275769  0.318460   \n",
              "3  59.0    1    4.0           0.207064                     0.655728  0.106015   \n",
              "4  51.0    1    2.0           0.326379                     0.753597  0.257189   \n",
              "\n",
              "   slope  thal_norm  thal_rev_def  number_of_major_vessels_1  \\\n",
              "0      2          1             0                          0   \n",
              "1      2          1             0                          0   \n",
              "2      2          0             1                          0   \n",
              "3      1          0             1                          1   \n",
              "4      1          1             0                          1   \n",
              "\n",
              "   number_of_major_vessels_2  number_of_major_vessels_3  \\\n",
              "0                          0                          0   \n",
              "1                          0                          0   \n",
              "2                          1                          0   \n",
              "3                          0                          0   \n",
              "4                          0                          0   \n",
              "\n",
              "   exercise_induced_angina_1  resting_electrocardiographic_results_1  \\\n",
              "0                          1                                       0   \n",
              "1                          0                                       0   \n",
              "2                          1                                       0   \n",
              "3                          1                                       0   \n",
              "4                          0                                       0   \n",
              "\n",
              "   resting_electrocardiographic_results_2  fasting_blood_sugar_1  class  \n",
              "0                                       0                      0      1  \n",
              "1                                       1                      0      0  \n",
              "2                                       1                      1      1  \n",
              "3                                       0                      0      1  \n",
              "4                                       0                      0      0  "
            ],
            "text/html": [
              "\n",
              "  <div id=\"df-3168d31c-693b-4b9f-bba9-0b5df85454ab\">\n",
              "    <div class=\"colab-df-container\">\n",
              "      <div>\n",
              "<style scoped>\n",
              "    .dataframe tbody tr th:only-of-type {\n",
              "        vertical-align: middle;\n",
              "    }\n",
              "\n",
              "    .dataframe tbody tr th {\n",
              "        vertical-align: top;\n",
              "    }\n",
              "\n",
              "    .dataframe thead th {\n",
              "        text-align: right;\n",
              "    }\n",
              "</style>\n",
              "<table border=\"1\" class=\"dataframe\">\n",
              "  <thead>\n",
              "    <tr style=\"text-align: right;\">\n",
              "      <th></th>\n",
              "      <th>age</th>\n",
              "      <th>sex</th>\n",
              "      <th>chest</th>\n",
              "      <th>serum_cholestoral</th>\n",
              "      <th>maximum_heart_rate_achieved</th>\n",
              "      <th>oldpeak</th>\n",
              "      <th>slope</th>\n",
              "      <th>thal_norm</th>\n",
              "      <th>thal_rev_def</th>\n",
              "      <th>number_of_major_vessels_1</th>\n",
              "      <th>number_of_major_vessels_2</th>\n",
              "      <th>number_of_major_vessels_3</th>\n",
              "      <th>exercise_induced_angina_1</th>\n",
              "      <th>resting_electrocardiographic_results_1</th>\n",
              "      <th>resting_electrocardiographic_results_2</th>\n",
              "      <th>fasting_blood_sugar_1</th>\n",
              "      <th>class</th>\n",
              "    </tr>\n",
              "  </thead>\n",
              "  <tbody>\n",
              "    <tr>\n",
              "      <th>0</th>\n",
              "      <td>49.0</td>\n",
              "      <td>0</td>\n",
              "      <td>4.0</td>\n",
              "      <td>0.192773</td>\n",
              "      <td>0.588080</td>\n",
              "      <td>0.230131</td>\n",
              "      <td>2</td>\n",
              "      <td>1</td>\n",
              "      <td>0</td>\n",
              "      <td>0</td>\n",
              "      <td>0</td>\n",
              "      <td>0</td>\n",
              "      <td>1</td>\n",
              "      <td>0</td>\n",
              "      <td>0</td>\n",
              "      <td>0</td>\n",
              "      <td>1</td>\n",
              "    </tr>\n",
              "    <tr>\n",
              "      <th>1</th>\n",
              "      <td>54.0</td>\n",
              "      <td>1</td>\n",
              "      <td>2.0</td>\n",
              "      <td>0.414849</td>\n",
              "      <td>0.620004</td>\n",
              "      <td>0.121661</td>\n",
              "      <td>2</td>\n",
              "      <td>1</td>\n",
              "      <td>0</td>\n",
              "      <td>0</td>\n",
              "      <td>0</td>\n",
              "      <td>0</td>\n",
              "      <td>0</td>\n",
              "      <td>0</td>\n",
              "      <td>1</td>\n",
              "      <td>0</td>\n",
              "      <td>0</td>\n",
              "    </tr>\n",
              "    <tr>\n",
              "      <th>2</th>\n",
              "      <td>50.0</td>\n",
              "      <td>1</td>\n",
              "      <td>4.0</td>\n",
              "      <td>0.291024</td>\n",
              "      <td>0.275769</td>\n",
              "      <td>0.318460</td>\n",
              "      <td>2</td>\n",
              "      <td>0</td>\n",
              "      <td>1</td>\n",
              "      <td>0</td>\n",
              "      <td>1</td>\n",
              "      <td>0</td>\n",
              "      <td>1</td>\n",
              "      <td>0</td>\n",
              "      <td>1</td>\n",
              "      <td>1</td>\n",
              "      <td>1</td>\n",
              "    </tr>\n",
              "    <tr>\n",
              "      <th>3</th>\n",
              "      <td>59.0</td>\n",
              "      <td>1</td>\n",
              "      <td>4.0</td>\n",
              "      <td>0.207064</td>\n",
              "      <td>0.655728</td>\n",
              "      <td>0.106015</td>\n",
              "      <td>1</td>\n",
              "      <td>0</td>\n",
              "      <td>1</td>\n",
              "      <td>1</td>\n",
              "      <td>0</td>\n",
              "      <td>0</td>\n",
              "      <td>1</td>\n",
              "      <td>0</td>\n",
              "      <td>0</td>\n",
              "      <td>0</td>\n",
              "      <td>1</td>\n",
              "    </tr>\n",
              "    <tr>\n",
              "      <th>4</th>\n",
              "      <td>51.0</td>\n",
              "      <td>1</td>\n",
              "      <td>2.0</td>\n",
              "      <td>0.326379</td>\n",
              "      <td>0.753597</td>\n",
              "      <td>0.257189</td>\n",
              "      <td>1</td>\n",
              "      <td>1</td>\n",
              "      <td>0</td>\n",
              "      <td>1</td>\n",
              "      <td>0</td>\n",
              "      <td>0</td>\n",
              "      <td>0</td>\n",
              "      <td>0</td>\n",
              "      <td>0</td>\n",
              "      <td>0</td>\n",
              "      <td>0</td>\n",
              "    </tr>\n",
              "  </tbody>\n",
              "</table>\n",
              "</div>\n",
              "      <button class=\"colab-df-convert\" onclick=\"convertToInteractive('df-3168d31c-693b-4b9f-bba9-0b5df85454ab')\"\n",
              "              title=\"Convert this dataframe to an interactive table.\"\n",
              "              style=\"display:none;\">\n",
              "        \n",
              "  <svg xmlns=\"http://www.w3.org/2000/svg\" height=\"24px\"viewBox=\"0 0 24 24\"\n",
              "       width=\"24px\">\n",
              "    <path d=\"M0 0h24v24H0V0z\" fill=\"none\"/>\n",
              "    <path d=\"M18.56 5.44l.94 2.06.94-2.06 2.06-.94-2.06-.94-.94-2.06-.94 2.06-2.06.94zm-11 1L8.5 8.5l.94-2.06 2.06-.94-2.06-.94L8.5 2.5l-.94 2.06-2.06.94zm10 10l.94 2.06.94-2.06 2.06-.94-2.06-.94-.94-2.06-.94 2.06-2.06.94z\"/><path d=\"M17.41 7.96l-1.37-1.37c-.4-.4-.92-.59-1.43-.59-.52 0-1.04.2-1.43.59L10.3 9.45l-7.72 7.72c-.78.78-.78 2.05 0 2.83L4 21.41c.39.39.9.59 1.41.59.51 0 1.02-.2 1.41-.59l7.78-7.78 2.81-2.81c.8-.78.8-2.07 0-2.86zM5.41 20L4 18.59l7.72-7.72 1.47 1.35L5.41 20z\"/>\n",
              "  </svg>\n",
              "      </button>\n",
              "      \n",
              "  <style>\n",
              "    .colab-df-container {\n",
              "      display:flex;\n",
              "      flex-wrap:wrap;\n",
              "      gap: 12px;\n",
              "    }\n",
              "\n",
              "    .colab-df-convert {\n",
              "      background-color: #E8F0FE;\n",
              "      border: none;\n",
              "      border-radius: 50%;\n",
              "      cursor: pointer;\n",
              "      display: none;\n",
              "      fill: #1967D2;\n",
              "      height: 32px;\n",
              "      padding: 0 0 0 0;\n",
              "      width: 32px;\n",
              "    }\n",
              "\n",
              "    .colab-df-convert:hover {\n",
              "      background-color: #E2EBFA;\n",
              "      box-shadow: 0px 1px 2px rgba(60, 64, 67, 0.3), 0px 1px 3px 1px rgba(60, 64, 67, 0.15);\n",
              "      fill: #174EA6;\n",
              "    }\n",
              "\n",
              "    [theme=dark] .colab-df-convert {\n",
              "      background-color: #3B4455;\n",
              "      fill: #D2E3FC;\n",
              "    }\n",
              "\n",
              "    [theme=dark] .colab-df-convert:hover {\n",
              "      background-color: #434B5C;\n",
              "      box-shadow: 0px 1px 3px 1px rgba(0, 0, 0, 0.15);\n",
              "      filter: drop-shadow(0px 1px 2px rgba(0, 0, 0, 0.3));\n",
              "      fill: #FFFFFF;\n",
              "    }\n",
              "  </style>\n",
              "\n",
              "      <script>\n",
              "        const buttonEl =\n",
              "          document.querySelector('#df-3168d31c-693b-4b9f-bba9-0b5df85454ab button.colab-df-convert');\n",
              "        buttonEl.style.display =\n",
              "          google.colab.kernel.accessAllowed ? 'block' : 'none';\n",
              "\n",
              "        async function convertToInteractive(key) {\n",
              "          const element = document.querySelector('#df-3168d31c-693b-4b9f-bba9-0b5df85454ab');\n",
              "          const dataTable =\n",
              "            await google.colab.kernel.invokeFunction('convertToInteractive',\n",
              "                                                     [key], {});\n",
              "          if (!dataTable) return;\n",
              "\n",
              "          const docLinkHtml = 'Like what you see? Visit the ' +\n",
              "            '<a target=\"_blank\" href=https://colab.research.google.com/notebooks/data_table.ipynb>data table notebook</a>'\n",
              "            + ' to learn more about interactive tables.';\n",
              "          element.innerHTML = '';\n",
              "          dataTable['output_type'] = 'display_data';\n",
              "          await google.colab.output.renderOutput(dataTable, element);\n",
              "          const docLink = document.createElement('div');\n",
              "          docLink.innerHTML = docLinkHtml;\n",
              "          element.appendChild(docLink);\n",
              "        }\n",
              "      </script>\n",
              "    </div>\n",
              "  </div>\n",
              "  "
            ]
          },
          "metadata": {},
          "execution_count": 29
        }
      ]
    },
    {
      "cell_type": "code",
      "source": [
        "scaler = MinMaxScaler()\n",
        "test_data['maximum_heart_rate_achieved'] = scaler.fit_transform(test_data[['maximum_heart_rate_achieved']])\n",
        "test_data['oldpeak'] = scaler.fit_transform(test_data[['oldpeak']])\n",
        "test_data['serum_cholestoral'] = scaler.fit_transform(test_data[['serum_cholestoral']])\n"
      ],
      "metadata": {
        "id": "6y9ZacBCLJ9I"
      },
      "execution_count": 100,
      "outputs": []
    },
    {
      "cell_type": "markdown",
      "source": [
        "<hr>"
      ],
      "metadata": {
        "id": "3jXjiia3t5-A"
      }
    },
    {
      "cell_type": "markdown",
      "source": [
        "<h1 style=\"color:teal\"><center> Modeling and Predicting </center></h1>"
      ],
      "metadata": {
        "id": "5fyE_Bhkt5-A"
      }
    },
    {
      "cell_type": "markdown",
      "source": [
        "<h3><center><font color=purple> \n",
        "    Seperate the label from our features to split our data to tran/test </font></center></h3>"
      ],
      "metadata": {
        "id": "_ZJFAEVFt5-B"
      }
    },
    {
      "cell_type": "code",
      "source": [
        "X = data.iloc[:,0:-1].values\n",
        "y = data.iloc[:,-1].values"
      ],
      "metadata": {
        "execution": {
          "iopub.status.busy": "2023-05-05T06:49:24.845498Z",
          "iopub.execute_input": "2023-05-05T06:49:24.845878Z",
          "iopub.status.idle": "2023-05-05T06:49:24.899773Z",
          "shell.execute_reply.started": "2023-05-05T06:49:24.845844Z",
          "shell.execute_reply": "2023-05-05T06:49:24.898765Z"
        },
        "trusted": true,
        "id": "PPjZM9nbt5-B"
      },
      "execution_count": 30,
      "outputs": []
    },
    {
      "cell_type": "code",
      "source": [
        "X_train, X_test, y_train, y_test = train_test_split(X, y, test_size = 0.2, random_state = 20)"
      ],
      "metadata": {
        "execution": {
          "iopub.status.busy": "2023-05-05T06:49:24.901330Z",
          "iopub.execute_input": "2023-05-05T06:49:24.901765Z",
          "iopub.status.idle": "2023-05-05T06:49:25.038014Z",
          "shell.execute_reply.started": "2023-05-05T06:49:24.901730Z",
          "shell.execute_reply": "2023-05-05T06:49:25.037008Z"
        },
        "trusted": true,
        "id": "rSNUHWa6t5-B"
      },
      "execution_count": 31,
      "outputs": []
    },
    {
      "cell_type": "code",
      "source": [
        "# funtion to get accuracy\n",
        "def get_score(y_temp_l):\n",
        "    y_pred_l = []\n",
        "    for i in y_temp_l:\n",
        "        if i > 0.5:\n",
        "            y_pred_l.append(1)\n",
        "        else:\n",
        "            y_pred_l.append(0)\n",
        "    print(accuracy_score(y_pred_l,y_test)*100)"
      ],
      "metadata": {
        "execution": {
          "iopub.status.busy": "2023-05-05T06:49:25.039662Z",
          "iopub.execute_input": "2023-05-05T06:49:25.040054Z",
          "iopub.status.idle": "2023-05-05T06:49:25.046175Z",
          "shell.execute_reply.started": "2023-05-05T06:49:25.040020Z",
          "shell.execute_reply": "2023-05-05T06:49:25.045066Z"
        },
        "trusted": true,
        "id": "VBE4en2ht5-C"
      },
      "execution_count": 32,
      "outputs": []
    },
    {
      "cell_type": "markdown",
      "source": [
        "<h3><font color=teal> \n",
        "    Logistic Regression </font></h3>"
      ],
      "metadata": {
        "id": "fjni1GXjt5-C"
      }
    },
    {
      "cell_type": "code",
      "source": [
        "data.isnull().sum()"
      ],
      "metadata": {
        "colab": {
          "base_uri": "https://localhost:8080/"
        },
        "id": "sAvtkV2xvZjg",
        "outputId": "56018e32-772f-440f-c5d6-e785817523c4"
      },
      "execution_count": 33,
      "outputs": [
        {
          "output_type": "execute_result",
          "data": {
            "text/plain": [
              "age                                       0\n",
              "sex                                       0\n",
              "chest                                     0\n",
              "serum_cholestoral                         0\n",
              "maximum_heart_rate_achieved               0\n",
              "oldpeak                                   0\n",
              "slope                                     0\n",
              "thal_norm                                 0\n",
              "thal_rev_def                              0\n",
              "number_of_major_vessels_1                 0\n",
              "number_of_major_vessels_2                 0\n",
              "number_of_major_vessels_3                 0\n",
              "exercise_induced_angina_1                 0\n",
              "resting_electrocardiographic_results_1    0\n",
              "resting_electrocardiographic_results_2    0\n",
              "fasting_blood_sugar_1                     0\n",
              "class                                     0\n",
              "dtype: int64"
            ]
          },
          "metadata": {},
          "execution_count": 33
        }
      ]
    },
    {
      "cell_type": "code",
      "source": [
        "logreg = LogisticRegression(solver='lbfgs', max_iter=200) \n",
        "logreg.fit(X_train, y_train)\n",
        "y_pred = logreg.predict(X_test)\n",
        "print(classification_report(y_test, y_pred))"
      ],
      "metadata": {
        "execution": {
          "iopub.status.busy": "2023-05-05T06:49:25.047690Z",
          "iopub.execute_input": "2023-05-05T06:49:25.048045Z",
          "iopub.status.idle": "2023-05-05T06:49:36.533565Z",
          "shell.execute_reply.started": "2023-05-05T06:49:25.048008Z",
          "shell.execute_reply": "2023-05-05T06:49:36.532389Z"
        },
        "trusted": true,
        "colab": {
          "base_uri": "https://localhost:8080/"
        },
        "id": "1l_js8pkt5-C",
        "outputId": "24bc9b63-2b21-4dd7-cf95-8e5ed510e11f"
      },
      "execution_count": 34,
      "outputs": [
        {
          "output_type": "stream",
          "name": "stdout",
          "text": [
            "              precision    recall  f1-score   support\n",
            "\n",
            "           0       0.89      0.90      0.89     66810\n",
            "           1       0.87      0.85      0.86     53190\n",
            "\n",
            "    accuracy                           0.88    120000\n",
            "   macro avg       0.88      0.88      0.88    120000\n",
            "weighted avg       0.88      0.88      0.88    120000\n",
            "\n"
          ]
        }
      ]
    },
    {
      "cell_type": "markdown",
      "source": [
        "<h3><font color=teal> \n",
        "    KNeighborsClassifier</font></h3>"
      ],
      "metadata": {
        "id": "zEkJD6FOt5-D"
      }
    },
    {
      "cell_type": "code",
      "source": [
        "knnClassifier = KNeighborsClassifier(n_neighbors=3)\n",
        "knnClassifier.fit(X_train,y_train);\n",
        "y_pred2 = knnClassifier.predict(X_test)\n",
        "print(classification_report(y_test, y_pred2))\n",
        "\n",
        "predictions = knnClassifier.predict_proba(X_test)\n",
        "predictions = [i[1] for i in predictions]\n",
        "predictions_c = predictions\n",
        "get_score(predictions)"
      ],
      "metadata": {
        "execution": {
          "iopub.status.busy": "2023-05-05T06:49:36.535408Z",
          "iopub.execute_input": "2023-05-05T06:49:36.536185Z",
          "iopub.status.idle": "2023-05-05T06:53:41.731349Z",
          "shell.execute_reply.started": "2023-05-05T06:49:36.536147Z",
          "shell.execute_reply": "2023-05-05T06:53:41.730188Z"
        },
        "trusted": true,
        "colab": {
          "base_uri": "https://localhost:8080/"
        },
        "id": "sTTQQz0lt5-D",
        "outputId": "0f14cf6b-3213-4064-f60f-57e84e63b315"
      },
      "execution_count": 35,
      "outputs": [
        {
          "output_type": "stream",
          "name": "stdout",
          "text": [
            "              precision    recall  f1-score   support\n",
            "\n",
            "           0       0.87      0.90      0.88     66810\n",
            "           1       0.86      0.84      0.85     53190\n",
            "\n",
            "    accuracy                           0.87    120000\n",
            "   macro avg       0.87      0.87      0.87    120000\n",
            "weighted avg       0.87      0.87      0.87    120000\n",
            "\n",
            "86.97333333333333\n"
          ]
        }
      ]
    },
    {
      "cell_type": "code",
      "source": [
        "# kn_train = knnClassifier.score(X_train,y_train)\n",
        "# kn_test = knnClassifier.score(X_test,y_test)\n",
        "# print(kn_train)\n",
        "# print(kn_test)"
      ],
      "metadata": {
        "execution": {
          "iopub.status.busy": "2023-05-05T06:53:41.733168Z",
          "iopub.execute_input": "2023-05-05T06:53:41.733860Z"
        },
        "trusted": true,
        "id": "sAmAS50Rt5-D"
      },
      "execution_count": 36,
      "outputs": []
    },
    {
      "cell_type": "markdown",
      "source": [
        "<h3><font color=teal> \n",
        "    Random Forests</font></h3>"
      ],
      "metadata": {
        "id": "njYdxb8zt5-E"
      }
    },
    {
      "cell_type": "code",
      "source": [
        "def fit_random_forest_classifier(X_train, y_train):\n",
        "    #We could grid search and tune, but let's just fit a simple model to see how it does\n",
        "    #instantiate\n",
        "    clf = RandomForestClassifier(n_estimators=200, max_depth=None)\n",
        "\n",
        "    #fit\n",
        "    clf.fit(X_train, y_train)\n",
        "\n",
        "    #predict\n",
        "    y_preds = clf.predict(X_test)\n",
        "\n",
        "    #score\n",
        "    print(classification_report(y_test, y_preds))\n",
        "\n",
        "\n",
        "    predictions = clf.predict_proba(X_test)\n",
        "    predictions = [i[1] for i in predictions]\n",
        "    predictions_c = predictions\n",
        "    get_score(predictions)\n",
        "\n",
        "fit_random_forest_classifier(X_train, y_train)"
      ],
      "metadata": {
        "trusted": true,
        "colab": {
          "base_uri": "https://localhost:8080/"
        },
        "id": "EBG8iTiSt5-E",
        "outputId": "38ba2a31-49dd-471d-aabc-2eaaf5126d94"
      },
      "execution_count": 37,
      "outputs": [
        {
          "output_type": "stream",
          "name": "stdout",
          "text": [
            "              precision    recall  f1-score   support\n",
            "\n",
            "           0       0.90      0.91      0.91     66810\n",
            "           1       0.89      0.87      0.88     53190\n",
            "\n",
            "    accuracy                           0.89    120000\n",
            "   macro avg       0.89      0.89      0.89    120000\n",
            "weighted avg       0.89      0.89      0.89    120000\n",
            "\n",
            "89.4625\n"
          ]
        }
      ]
    },
    {
      "cell_type": "markdown",
      "source": [
        "<h3><font color=teal> \n",
        "    GaussianNB</font></h3>"
      ],
      "metadata": {
        "id": "bQwGdin2t5-E"
      }
    },
    {
      "cell_type": "code",
      "source": [
        "%%time\n",
        "\n",
        "model4 = GaussianNB() # get instance of model\n",
        "model4.fit(X_train, y_train) # Train/Fit model \n",
        "\n",
        "y_pred4 = model4.predict(X_test) # get y predictions\n",
        "print(classification_report(y_test, y_pred4))"
      ],
      "metadata": {
        "trusted": true,
        "colab": {
          "base_uri": "https://localhost:8080/"
        },
        "id": "uJQv7Cx-t5-F",
        "outputId": "0be44b62-09df-46c0-b19c-74281db68379"
      },
      "execution_count": 38,
      "outputs": [
        {
          "output_type": "stream",
          "name": "stdout",
          "text": [
            "              precision    recall  f1-score   support\n",
            "\n",
            "           0       0.87      0.86      0.87     66810\n",
            "           1       0.83      0.84      0.84     53190\n",
            "\n",
            "    accuracy                           0.85    120000\n",
            "   macro avg       0.85      0.85      0.85    120000\n",
            "weighted avg       0.85      0.85      0.85    120000\n",
            "\n",
            "CPU times: user 328 ms, sys: 35.9 ms, total: 364 ms\n",
            "Wall time: 362 ms\n"
          ]
        }
      ]
    },
    {
      "cell_type": "markdown",
      "source": [
        "<h3><font color=teal> \n",
        "    Decission Trees</font></h3>"
      ],
      "metadata": {
        "id": "s782BUWVt5-F"
      }
    },
    {
      "cell_type": "code",
      "source": [
        "%%time\n",
        "\n",
        "from sklearn.tree import DecisionTreeClassifier\n",
        "model5 = DecisionTreeClassifier(random_state=1) # get instance of model\n",
        "model5.fit(X_train, y_train) # Train/Fit model \n",
        "\n",
        "y_pred5 = model5.predict(X_test) # get y predictions\n",
        "print(classification_report(y_test, y_pred5))"
      ],
      "metadata": {
        "trusted": true,
        "colab": {
          "base_uri": "https://localhost:8080/"
        },
        "id": "LTAEB9v2t5-F",
        "outputId": "62440e6e-3083-4ee8-db3b-2843a28c4923"
      },
      "execution_count": 39,
      "outputs": [
        {
          "output_type": "stream",
          "name": "stdout",
          "text": [
            "              precision    recall  f1-score   support\n",
            "\n",
            "           0       0.86      0.86      0.86     66810\n",
            "           1       0.83      0.83      0.83     53190\n",
            "\n",
            "    accuracy                           0.85    120000\n",
            "   macro avg       0.85      0.85      0.85    120000\n",
            "weighted avg       0.85      0.85      0.85    120000\n",
            "\n",
            "CPU times: user 4.4 s, sys: 9.06 ms, total: 4.4 s\n",
            "Wall time: 4.39 s\n"
          ]
        }
      ]
    },
    {
      "cell_type": "markdown",
      "source": [
        "<h3><font color=teal> \n",
        "    Lightgbm</font></h3>"
      ],
      "metadata": {
        "id": "h7bP5pVQt5-G"
      }
    },
    {
      "cell_type": "code",
      "source": [
        "%%time\n",
        "\n",
        "import lightgbm as lgb\n",
        "clf_l = lgb.LGBMClassifier(boosting_type= 'gbdt',\n",
        "          objective= 'binary',\n",
        "          nthread= 4, # Updated from nthread\n",
        "          metric = 'binary_error',\n",
        "         seed  = 47,\n",
        "        depth =  5)\n",
        "clf_l.fit(X_train, y_train)\n",
        "y_preds = clf_l.predict(X_test)\n",
        "print(classification_report(y_test, y_preds))"
      ],
      "metadata": {
        "trusted": true,
        "colab": {
          "base_uri": "https://localhost:8080/"
        },
        "id": "DG2l7Z81t5-G",
        "outputId": "babba6ae-5c39-4cca-a16b-58c68b8697f9"
      },
      "execution_count": 40,
      "outputs": [
        {
          "output_type": "stream",
          "name": "stdout",
          "text": [
            "[LightGBM] [Warning] Unknown parameter: depth\n",
            "[LightGBM] [Warning] num_threads is set with nthread=4, will be overridden by n_jobs=-1. Current value: num_threads=-1\n",
            "              precision    recall  f1-score   support\n",
            "\n",
            "           0       0.91      0.92      0.91     66810\n",
            "           1       0.89      0.88      0.89     53190\n",
            "\n",
            "    accuracy                           0.90    120000\n",
            "   macro avg       0.90      0.90      0.90    120000\n",
            "weighted avg       0.90      0.90      0.90    120000\n",
            "\n",
            "CPU times: user 10.5 s, sys: 180 ms, total: 10.7 s\n",
            "Wall time: 7.32 s\n"
          ]
        }
      ]
    },
    {
      "cell_type": "markdown",
      "source": [
        "<h3><font color=teal> \n",
        "    XGBoost</font></h3>"
      ],
      "metadata": {
        "id": "qhOqEL4Pt5-H"
      }
    },
    {
      "cell_type": "code",
      "source": [
        "%%time\n",
        "import xgboost as xgb\n",
        "from xgboost import XGBClassifier\n",
        "\n",
        "model7 = xgb.XGBClassifier(random_state=1)\n",
        "model7.fit(X_train, y_train)\n",
        "y_pred7 = model7.predict(X_test)\n",
        "print(classification_report(y_test, y_pred7))\n",
        "\n",
        "predictions = model7.predict_proba(X_test)\n",
        "predictions = [i[1] for i in predictions]\n",
        "predictions_c = predictions\n",
        "get_score(predictions)"
      ],
      "metadata": {
        "trusted": true,
        "colab": {
          "base_uri": "https://localhost:8080/"
        },
        "id": "c7ixzmq8t5-H",
        "outputId": "f6344a8c-718f-42ad-c5cf-633f82921c89"
      },
      "execution_count": 41,
      "outputs": [
        {
          "output_type": "stream",
          "name": "stdout",
          "text": [
            "              precision    recall  f1-score   support\n",
            "\n",
            "           0       0.91      0.92      0.91     66810\n",
            "           1       0.89      0.88      0.89     53190\n",
            "\n",
            "    accuracy                           0.90    120000\n",
            "   macro avg       0.90      0.90      0.90    120000\n",
            "weighted avg       0.90      0.90      0.90    120000\n",
            "\n",
            "90.07083333333334\n",
            "CPU times: user 1min 59s, sys: 281 ms, total: 1min 59s\n",
            "Wall time: 1min 6s\n"
          ]
        }
      ]
    },
    {
      "cell_type": "markdown",
      "source": [
        "<h3><font color=teal> \n",
        "    catboost</font></h3>"
      ],
      "metadata": {
        "id": "4x3ovVpHt5-I"
      }
    },
    {
      "cell_type": "code",
      "source": [
        "%%time\n",
        "\n",
        "from catboost import CatBoostClassifier\n",
        "clf_c = CatBoostClassifier(iterations=500, learning_rate=0.07, verbose=False, \n",
        "                           depth =  5,loss_function='Logloss', thread_count = 4,\n",
        "                           eval_metric='Accuracy')\n",
        "\n",
        "clf_c.fit(X_train, y_train)\n",
        "y_preds = clf_l.predict(X_test)\n",
        "print(classification_report(y_test, y_preds))\n",
        "\n",
        "predictions = clf_c.predict_proba(X_test)\n",
        "predictions = [i[1] for i in predictions]\n",
        "predictions_c = predictions\n",
        "get_score(predictions)"
      ],
      "metadata": {
        "trusted": true,
        "colab": {
          "base_uri": "https://localhost:8080/"
        },
        "id": "Nmq9US5_t5-I",
        "outputId": "a9136277-8a6f-4c5d-dfd4-fc48b81bea7b"
      },
      "execution_count": 47,
      "outputs": [
        {
          "output_type": "stream",
          "name": "stdout",
          "text": [
            "              precision    recall  f1-score   support\n",
            "\n",
            "           0       0.91      0.92      0.91     66810\n",
            "           1       0.89      0.88      0.89     53190\n",
            "\n",
            "    accuracy                           0.90    120000\n",
            "   macro avg       0.90      0.90      0.90    120000\n",
            "weighted avg       0.90      0.90      0.90    120000\n",
            "\n",
            "90.19083333333333\n",
            "CPU times: user 1min 25s, sys: 1.21 s, total: 1min 26s\n",
            "Wall time: 1min 5s\n"
          ]
        }
      ]
    },
    {
      "cell_type": "markdown",
      "source": [
        "<h3><font color=teal> \n",
        "    Cross validate best models</font></h3>"
      ],
      "metadata": {
        "id": "Wj0Rc2I9t5-J"
      }
    },
    {
      "cell_type": "code",
      "source": [
        "from sklearn.model_selection import cross_val_predict,cross_val_score, KFold,StratifiedKFold\n",
        "\n",
        "kfold = KFold(n_splits=5)\n",
        "\n",
        "feature_col = [col for col in data.columns if col != 'class']\n",
        "\n",
        "# fitting lightgbm\n",
        "results = cross_val_score(lgb.LGBMClassifier(boosting_type= 'gbdt',\n",
        "          objective= 'binary',\n",
        "          nthread= 4, # Updated from nthread\n",
        "          metric = 'binary_error',\n",
        "         seed  = 47), data[feature_col],data['class'].values, cv=kfold)\n",
        "\n",
        "print(results)\n",
        "print(np.mean(results)*100)\n",
        "print(np.std(results))"
      ],
      "metadata": {
        "trusted": true,
        "colab": {
          "base_uri": "https://localhost:8080/"
        },
        "id": "xdAVCIxDt5-J",
        "outputId": "bba4fb5f-d2b6-4607-e71b-dd0e47ff4f5f"
      },
      "execution_count": 43,
      "outputs": [
        {
          "output_type": "stream",
          "name": "stdout",
          "text": [
            "[LightGBM] [Warning] num_threads is set with nthread=4, will be overridden by n_jobs=-1. Current value: num_threads=-1\n",
            "[LightGBM] [Warning] num_threads is set with nthread=4, will be overridden by n_jobs=-1. Current value: num_threads=-1\n",
            "[LightGBM] [Warning] num_threads is set with nthread=4, will be overridden by n_jobs=-1. Current value: num_threads=-1\n",
            "[LightGBM] [Warning] num_threads is set with nthread=4, will be overridden by n_jobs=-1. Current value: num_threads=-1\n",
            "[LightGBM] [Warning] num_threads is set with nthread=4, will be overridden by n_jobs=-1. Current value: num_threads=-1\n",
            "[0.902225   0.90208333 0.90149167 0.90106667 0.90120833]\n",
            "90.16149999999999\n",
            "0.000463183428987814\n"
          ]
        }
      ]
    },
    {
      "cell_type": "code",
      "source": [
        "results = cross_val_score(xgb.XGBClassifier(max_depth=7, n_estimators=200, colsample_bytree=0.8, \n",
        "                        subsample=0.8, nthread=10, learning_rate=0.1)\n",
        "                          , data[feature_col],data['class'].values, cv=kfold)\n",
        "\n",
        "print(results)\n",
        "print(np.mean(results)*100)\n",
        "print(np.std(results))"
      ],
      "metadata": {
        "trusted": true,
        "colab": {
          "base_uri": "https://localhost:8080/"
        },
        "id": "ZA-oQ2wMt5-K",
        "outputId": "6e72f3ec-7cea-4883-d500-3cd061ddf47f"
      },
      "execution_count": 48,
      "outputs": [
        {
          "output_type": "stream",
          "name": "stdout",
          "text": [
            "[0.90286667 0.90228333 0.90190833 0.90141667 0.90161667]\n",
            "90.20183333333334\n",
            "0.0005148462553682342\n"
          ]
        }
      ]
    },
    {
      "cell_type": "code",
      "source": [
        "results = cross_val_score(CatBoostClassifier(iterations=500, learning_rate=0.1, verbose=False, depth =  8,loss_function='Logloss')\n",
        "                          , data[feature_col],data['class'].values, cv=kfold)\n",
        "\n",
        "print(results)\n",
        "print(np.mean(results)*100)\n",
        "print(np.std(results))"
      ],
      "metadata": {
        "trusted": true,
        "colab": {
          "base_uri": "https://localhost:8080/"
        },
        "id": "C7uvr27Lt5-K",
        "outputId": "4a00533f-10d9-4a95-f211-2ac322b11499"
      },
      "execution_count": 49,
      "outputs": [
        {
          "output_type": "stream",
          "name": "stdout",
          "text": [
            "[0.90340833 0.902775   0.90211667 0.90186667 0.901975  ]\n",
            "90.24283333333332\n",
            "0.0005828712455499045\n"
          ]
        }
      ]
    },
    {
      "cell_type": "code",
      "source": [
        "predictions_x = model7.predict_proba(test_data)\n",
        "predictions_x = [i[1] for i in predictions_x]"
      ],
      "metadata": {
        "id": "FaNHBE8vMJpj"
      },
      "execution_count": null,
      "outputs": []
    },
    {
      "cell_type": "code",
      "source": [
        "predictions_l = clf_l.predict_proba(test_data)\n",
        "predictions_l = [i[1] for i in predictions_l]"
      ],
      "metadata": {
        "id": "HK4IjjmKQRyT"
      },
      "execution_count": 109,
      "outputs": []
    },
    {
      "cell_type": "code",
      "source": [
        "predictions_c = clf_c.predict_proba(test_data)\n",
        "predictions_c = [i[1] for i in predictions_c]"
      ],
      "metadata": {
        "id": "C55CO-kRJRUA"
      },
      "execution_count": 107,
      "outputs": []
    },
    {
      "cell_type": "code",
      "source": [
        "sub = pd.read_csv(\"/content/sample_submission.csv\", header=0)\n",
        "\n",
        "\n",
        "p = []\n",
        "\n",
        "for i in predictions_x:\n",
        "    if i > 0.5:\n",
        "        p.append(1)\n",
        "    else:\n",
        "        p.append(0)\n",
        "                \n",
        "sub['class'] = p\n",
        "sub.to_csv(\"submission_x.csv\",index=False)"
      ],
      "metadata": {
        "id": "Q4yz8pFTJj-P"
      },
      "execution_count": 112,
      "outputs": []
    }
  ]
}